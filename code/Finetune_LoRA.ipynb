{
 "cells": [
  {
   "cell_type": "code",
   "execution_count": 1,
   "metadata": {
    "id": "CyjHu9igVEoN"
   },
   "outputs": [],
   "source": [
    "# https://github.com/huggingface/peft/blob/main/examples/sequence_classification/LoRA.ipynb"
   ]
  },
  {
   "cell_type": "code",
   "execution_count": null,
   "metadata": {
    "id": "WtOahpz2VKPT"
   },
   "outputs": [],
   "source": [
    "!pip install accelerate -U\n",
    "!pip install transformers datasets evaluate accelerate peft"
   ]
  },
  {
   "cell_type": "code",
   "execution_count": 3,
   "metadata": {
    "id": "y0puoNLnVLwi"
   },
   "outputs": [],
   "source": [
    "from google.colab import drive\n",
    "import pandas as pd\n",
    "import os\n",
    "import torch\n",
    "from torch.optim import AdamW\n",
    "from transformers import get_linear_schedule_with_warmup\n",
    "from peft import (\n",
    "    get_peft_config,\n",
    "    get_peft_model,\n",
    "    get_peft_model_state_dict,\n",
    "    set_peft_model_state_dict,\n",
    "    LoraConfig,\n",
    "    PeftType,\n",
    "    PrefixTuningConfig,\n",
    "    PromptEncoderConfig,\n",
    ")"
   ]
  },
  {
   "cell_type": "code",
   "execution_count": 4,
   "metadata": {
    "colab": {
     "base_uri": "https://localhost:8080/"
    },
    "id": "Q38BbN-Z6Ebj",
    "outputId": "77289641-5da2-4316-daee-0d2dd1f596dc"
   },
   "outputs": [
    {
     "name": "stdout",
     "output_type": "stream",
     "text": [
      "Mounted at /content/drive\n"
     ]
    }
   ],
   "source": [
    "drive.mount('/content/drive')\n",
    "os.chdir('/content/drive/My Drive/Colab Notebooks/Comp545_FinalProject/code')\n",
    "\n",
    "from model.train import training_loop\n",
    "from model.evaluate import evaluate_model\n",
    "from utils.funcs import load_data, load_tokenizer_model, prepare_dataloader\n",
    "from utils.plot import plot_confusion_matrix\n",
    "from utils.test_cases import run_test_cases\n",
    "\n",
    "device = torch.device('cuda') if torch.cuda.is_available() else torch.device('cpu')"
   ]
  },
  {
   "cell_type": "markdown",
   "metadata": {
    "id": "F_WKKy8lvz9f"
   },
   "source": [
    "## Train and evaluate on combine data"
   ]
  },
  {
   "cell_type": "code",
   "execution_count": 5,
   "metadata": {
    "id": "FgL-pXHpVif5"
   },
   "outputs": [],
   "source": [
    "train_combine_data_path = \"../data_PEFT/lab-manual-combine-train.xlsx\"\n",
    "test_combine_data_path = \"../data_PEFT/lab-manual-combine-test.xlsx\"\n",
    "\n",
    "sentences_combine, labels_combine, sentences_test_combine, labels_test_combine = load_data(train_combine_data_path, test_combine_data_path)"
   ]
  },
  {
   "cell_type": "code",
   "execution_count": null,
   "metadata": {
    "id": "P8VKhTMSv329"
   },
   "outputs": [],
   "source": [
    "language_model_to_use = 'roberta-large'\n",
    "batch_size = 16\n",
    "\n",
    "train_val_dataloader_combine = prepare_dataloader(language_model_to_use, sentences_combine, labels_combine, batch_size, device, return_train_dataloader=True)\n",
    "test_dataloader_combine = prepare_dataloader(language_model_to_use, sentences_test_combine, labels_test_combine, batch_size, device, return_train_dataloader=False)"
   ]
  },
  {
   "cell_type": "markdown",
   "metadata": {
    "id": "tz_R7wPs-Xq_"
   },
   "source": [
    "https://huggingface.co/docs/peft/en/package_reference/lora#peft.LoraConfig\n",
    "*   task_type: Type of the task (e.g., sequence classification).\n",
    "*   inference_mode: Whether the model is in inference mode or training mode.\n",
    "*   r: The rank of the low-rank matrices (defines the number of trainable parameters).\n",
    "*   lora_alpha: The scaling factor for the LoRA adaptation.\n",
    "*   lora_dropout: Dropout rate applied to LoRA parameters.\n",
    "```\n",
    "if 'lora' in name:\n",
    "        param.requires_grad = True  # Make LoRA parameters trainable\n",
    "```\n",
    "can be used to decide based on parameter names or other criteria which parameters should be trainable.\n",
    "\n",
    "\n",
    "\n",
    "\n",
    "\n",
    "\n",
    "\n"
   ]
  },
  {
   "cell_type": "code",
   "execution_count": null,
   "metadata": {
    "id": "y2k4HFg9-U61"
   },
   "outputs": [],
   "source": [
    "peft_config = LoraConfig(task_type=\"SEQ_CLS\", inference_mode=False, r=8, lora_alpha=16, lora_dropout=0.1)\n",
    "peft_type = PeftType.LORA\n",
    "\n",
    "tokenizer, model = load_tokenizer_model(language_model_to_use, device)\n",
    "model_lora = get_peft_model(model, peft_config)\n",
    "model_lora.print_trainable_parameters()\n",
    "model_lora\n",
    "# trainable params: 1,839,107 || all params: 357,201,926 || trainable%: 0.5148648050682683"
   ]
  },
  {
   "cell_type": "code",
   "execution_count": 8,
   "metadata": {
    "id": "Ss6vqrS_v3vV"
   },
   "outputs": [],
   "source": [
    "optimizer = AdamW(params=model.parameters(), lr=1e-4)\n",
    "num_epochs = 10\n",
    "num_training_steps = len(train_val_dataloader_combine['train']) * num_epochs\n",
    "\n",
    "# Instantiate scheduler\n",
    "lr_scheduler = get_linear_schedule_with_warmup(\n",
    "    optimizer=optimizer,\n",
    "    num_warmup_steps=0.06 * (len(train_val_dataloader_combine['train']) * num_epochs),\n",
    "    num_training_steps=num_training_steps,\n",
    ")"
   ]
  },
  {
   "cell_type": "code",
   "execution_count": 9,
   "metadata": {
    "colab": {
     "base_uri": "https://localhost:8080/",
     "height": 1000,
     "referenced_widgets": [
      "0cdcc38cb78142f6a21468dc75ba7bda",
      "1f77c685324a4ed68c31318b4826916a",
      "8a5b3005074644cbab2c251e934f55de",
      "d295c035bc834d2e8ceac6ea10049ec6",
      "bb06c85623654b21920f02e85c9f7ecf",
      "189c8ee749104f8098650a76eedcf8cc",
      "cfcec0cbf830413dbc1d52f47ab2c731",
      "ee2666197d614ca0a9bd49c5578ab1d7",
      "89a4562be18746b7af48c13657cd1171",
      "47c73338dbf0490eaf8918edce2c40ed",
      "73544a05a374427295112928617c45b4",
      "1328aa57fabc4d7bb44bdc24d2d287bc",
      "e1938929d5fa46fcab38a75de665b83b",
      "9bc8fe2bca3b4475990f08560de54171",
      "3a325b130d7545c5af651c39a630afdf",
      "d82459be0ba748dfb396be98cac8ef61",
      "5210824c34124cdc9938796f9aec80f9",
      "1fd87fe4aad14c5ba188bd28608ff93a",
      "d602989d225240189d8422e3989a554c",
      "41aa5b826fdd468cacae5afa05376f5e",
      "e71d0f358a9c4d37aee5c6607323498d",
      "5203dd5eada04737a75d83f0c6ff928c"
     ]
    },
    "id": "DUHeMo559JG-",
    "outputId": "178a24c3-4416-43cf-b430-1037d14185c8"
   },
   "outputs": [
    {
     "name": "stderr",
     "output_type": "stream",
     "text": [
      "100%|██████████| 286/286 [07:30<00:00,  1.57s/it]\n"
     ]
    },
    {
     "name": "stdout",
     "output_type": "stream",
     "text": [
      "Epoch [1/10], Training loss: 0.8818\n"
     ]
    },
    {
     "data": {
      "application/vnd.jupyter.widget-view+json": {
       "model_id": "0cdcc38cb78142f6a21468dc75ba7bda",
       "version_major": 2,
       "version_minor": 0
      },
      "text/plain": [
       "Downloading builder script:   0%|          | 0.00/4.20k [00:00<?, ?B/s]"
      ]
     },
     "metadata": {},
     "output_type": "display_data"
    },
    {
     "data": {
      "application/vnd.jupyter.widget-view+json": {
       "model_id": "1328aa57fabc4d7bb44bdc24d2d287bc",
       "version_major": 2,
       "version_minor": 0
      },
      "text/plain": [
       "Downloading builder script:   0%|          | 0.00/6.77k [00:00<?, ?B/s]"
      ]
     },
     "metadata": {},
     "output_type": "display_data"
    },
    {
     "name": "stderr",
     "output_type": "stream",
     "text": [
      "100%|██████████| 72/72 [00:52<00:00,  1.38it/s]\n"
     ]
    },
    {
     "name": "stdout",
     "output_type": "stream",
     "text": [
      "Epoch [1/10], Validation accuracy:\n",
      "{'accuracy': 0.670464504820333}\n",
      "Epoch [1/10], Validation f1:\n",
      "{'f1': 0.6572905558821824}\n",
      "---------------------------------------------------\n"
     ]
    },
    {
     "name": "stderr",
     "output_type": "stream",
     "text": [
      "100%|██████████| 286/286 [06:58<00:00,  1.46s/it]\n"
     ]
    },
    {
     "name": "stdout",
     "output_type": "stream",
     "text": [
      "Epoch [2/10], Training loss: 0.4848\n"
     ]
    },
    {
     "name": "stderr",
     "output_type": "stream",
     "text": [
      "100%|██████████| 72/72 [00:52<00:00,  1.38it/s]\n"
     ]
    },
    {
     "name": "stdout",
     "output_type": "stream",
     "text": [
      "Epoch [2/10], Validation accuracy:\n",
      "{'accuracy': 0.7843996494303243}\n",
      "Epoch [2/10], Validation f1:\n",
      "{'f1': 0.7840585834183407}\n",
      "---------------------------------------------------\n"
     ]
    },
    {
     "name": "stderr",
     "output_type": "stream",
     "text": [
      "100%|██████████| 286/286 [06:57<00:00,  1.46s/it]\n"
     ]
    },
    {
     "name": "stdout",
     "output_type": "stream",
     "text": [
      "Epoch [3/10], Training loss: 0.4673\n"
     ]
    },
    {
     "name": "stderr",
     "output_type": "stream",
     "text": [
      "100%|██████████| 72/72 [00:52<00:00,  1.38it/s]\n"
     ]
    },
    {
     "name": "stdout",
     "output_type": "stream",
     "text": [
      "Epoch [3/10], Validation accuracy:\n",
      "{'accuracy': 0.8492550394390885}\n",
      "Epoch [3/10], Validation f1:\n",
      "{'f1': 0.8495817557216168}\n",
      "---------------------------------------------------\n"
     ]
    },
    {
     "name": "stderr",
     "output_type": "stream",
     "text": [
      "100%|██████████| 286/286 [06:58<00:00,  1.46s/it]\n"
     ]
    },
    {
     "name": "stdout",
     "output_type": "stream",
     "text": [
      "Epoch [4/10], Training loss: 0.1669\n"
     ]
    },
    {
     "name": "stderr",
     "output_type": "stream",
     "text": [
      "100%|██████████| 72/72 [00:52<00:00,  1.38it/s]\n"
     ]
    },
    {
     "name": "stdout",
     "output_type": "stream",
     "text": [
      "Epoch [4/10], Validation accuracy:\n",
      "{'accuracy': 0.8983347940403155}\n",
      "Epoch [4/10], Validation f1:\n",
      "{'f1': 0.8987378661383119}\n",
      "---------------------------------------------------\n"
     ]
    },
    {
     "name": "stderr",
     "output_type": "stream",
     "text": [
      "100%|██████████| 286/286 [06:57<00:00,  1.46s/it]\n"
     ]
    },
    {
     "name": "stdout",
     "output_type": "stream",
     "text": [
      "Epoch [5/10], Training loss: 0.0393\n"
     ]
    },
    {
     "name": "stderr",
     "output_type": "stream",
     "text": [
      "100%|██████████| 72/72 [00:52<00:00,  1.38it/s]\n"
     ]
    },
    {
     "name": "stdout",
     "output_type": "stream",
     "text": [
      "Epoch [5/10], Validation accuracy:\n",
      "{'accuracy': 0.92988606485539}\n",
      "Epoch [5/10], Validation f1:\n",
      "{'f1': 0.9297514324975615}\n",
      "---------------------------------------------------\n"
     ]
    },
    {
     "name": "stderr",
     "output_type": "stream",
     "text": [
      "100%|██████████| 286/286 [06:57<00:00,  1.46s/it]\n"
     ]
    },
    {
     "name": "stdout",
     "output_type": "stream",
     "text": [
      "Epoch [6/10], Training loss: 0.0567\n"
     ]
    },
    {
     "name": "stderr",
     "output_type": "stream",
     "text": [
      "100%|██████████| 72/72 [00:52<00:00,  1.38it/s]\n"
     ]
    },
    {
     "name": "stdout",
     "output_type": "stream",
     "text": [
      "Epoch [6/10], Validation accuracy:\n",
      "{'accuracy': 0.9404031551270815}\n",
      "Epoch [6/10], Validation f1:\n",
      "{'f1': 0.9403519163600957}\n",
      "---------------------------------------------------\n"
     ]
    },
    {
     "name": "stderr",
     "output_type": "stream",
     "text": [
      "100%|██████████| 286/286 [06:58<00:00,  1.46s/it]\n"
     ]
    },
    {
     "name": "stdout",
     "output_type": "stream",
     "text": [
      "Epoch [7/10], Training loss: 0.0070\n"
     ]
    },
    {
     "name": "stderr",
     "output_type": "stream",
     "text": [
      "100%|██████████| 72/72 [00:52<00:00,  1.38it/s]\n"
     ]
    },
    {
     "name": "stdout",
     "output_type": "stream",
     "text": [
      "Epoch [7/10], Validation accuracy:\n",
      "{'accuracy': 0.9430324276950044}\n",
      "Epoch [7/10], Validation f1:\n",
      "{'f1': 0.9429920274312164}\n",
      "---------------------------------------------------\n"
     ]
    },
    {
     "name": "stderr",
     "output_type": "stream",
     "text": [
      "100%|██████████| 286/286 [06:58<00:00,  1.46s/it]\n"
     ]
    },
    {
     "name": "stdout",
     "output_type": "stream",
     "text": [
      "Epoch [8/10], Training loss: 0.0028\n"
     ]
    },
    {
     "name": "stderr",
     "output_type": "stream",
     "text": [
      "100%|██████████| 72/72 [00:52<00:00,  1.38it/s]\n"
     ]
    },
    {
     "name": "stdout",
     "output_type": "stream",
     "text": [
      "Epoch [8/10], Validation accuracy:\n",
      "{'accuracy': 0.9491673970201577}\n",
      "Epoch [8/10], Validation f1:\n",
      "{'f1': 0.9491980515884847}\n",
      "---------------------------------------------------\n"
     ]
    },
    {
     "name": "stderr",
     "output_type": "stream",
     "text": [
      "100%|██████████| 286/286 [06:58<00:00,  1.46s/it]\n"
     ]
    },
    {
     "name": "stdout",
     "output_type": "stream",
     "text": [
      "Epoch [9/10], Training loss: 0.0042\n"
     ]
    },
    {
     "name": "stderr",
     "output_type": "stream",
     "text": [
      "100%|██████████| 72/72 [00:52<00:00,  1.38it/s]\n"
     ]
    },
    {
     "name": "stdout",
     "output_type": "stream",
     "text": [
      "Epoch [9/10], Validation accuracy:\n",
      "{'accuracy': 0.9465381244522348}\n",
      "Epoch [9/10], Validation f1:\n",
      "{'f1': 0.946500561667445}\n",
      "---------------------------------------------------\n"
     ]
    },
    {
     "name": "stderr",
     "output_type": "stream",
     "text": [
      "100%|██████████| 286/286 [06:59<00:00,  1.47s/it]\n"
     ]
    },
    {
     "name": "stdout",
     "output_type": "stream",
     "text": [
      "Epoch [10/10], Training loss: 0.0432\n"
     ]
    },
    {
     "name": "stderr",
     "output_type": "stream",
     "text": [
      "100%|██████████| 72/72 [00:52<00:00,  1.38it/s]"
     ]
    },
    {
     "name": "stdout",
     "output_type": "stream",
     "text": [
      "Epoch [10/10], Validation accuracy:\n",
      "{'accuracy': 0.9474145486415425}\n",
      "Epoch [10/10], Validation f1:\n",
      "{'f1': 0.9473764534733793}\n",
      "---------------------------------------------------\n"
     ]
    },
    {
     "name": "stderr",
     "output_type": "stream",
     "text": [
      "\n"
     ]
    }
   ],
   "source": [
    "accuracy_list, f1_list = training_loop(model_lora, device, num_epochs, train_val_dataloader_combine, optimizer, lr_scheduler)"
   ]
  },
  {
   "cell_type": "code",
   "execution_count": 23,
   "metadata": {
    "colab": {
     "base_uri": "https://localhost:8080/"
    },
    "id": "wRpZdUlAWNQR",
    "outputId": "a62d0db5-c53f-4e76-d5a7-ef19cfb8fab1"
   },
   "outputs": [
    {
     "data": {
      "text/plain": [
       "[{'accuracy': 0.670464504820333},\n",
       " {'accuracy': 0.7843996494303243},\n",
       " {'accuracy': 0.8492550394390885},\n",
       " {'accuracy': 0.8983347940403155},\n",
       " {'accuracy': 0.92988606485539},\n",
       " {'accuracy': 0.9404031551270815},\n",
       " {'accuracy': 0.9430324276950044},\n",
       " {'accuracy': 0.9491673970201577},\n",
       " {'accuracy': 0.9465381244522348},\n",
       " {'accuracy': 0.9474145486415425}]"
      ]
     },
     "execution_count": 23,
     "metadata": {},
     "output_type": "execute_result"
    }
   ],
   "source": [
    "accuracy_list"
   ]
  },
  {
   "cell_type": "code",
   "execution_count": 24,
   "metadata": {
    "colab": {
     "base_uri": "https://localhost:8080/"
    },
    "id": "FdwiTS7xWOQa",
    "outputId": "bd032c23-724d-44ed-a578-5380b8296015"
   },
   "outputs": [
    {
     "data": {
      "text/plain": [
       "[{'f1': 0.6572905558821824},\n",
       " {'f1': 0.7840585834183407},\n",
       " {'f1': 0.8495817557216168},\n",
       " {'f1': 0.8987378661383119},\n",
       " {'f1': 0.9297514324975615},\n",
       " {'f1': 0.9403519163600957},\n",
       " {'f1': 0.9429920274312164},\n",
       " {'f1': 0.9491980515884847},\n",
       " {'f1': 0.946500561667445},\n",
       " {'f1': 0.9473764534733793}]"
      ]
     },
     "execution_count": 24,
     "metadata": {},
     "output_type": "execute_result"
    }
   ],
   "source": [
    "f1_list"
   ]
  },
  {
   "cell_type": "code",
   "execution_count": 12,
   "metadata": {
    "colab": {
     "base_uri": "https://localhost:8080/"
    },
    "id": "aLkzOXSQAARV",
    "outputId": "56ef2d8b-1d9a-4ecc-a18a-d2f8c69070bc"
   },
   "outputs": [
    {
     "name": "stdout",
     "output_type": "stream",
     "text": [
      "Test accuracy:  {'accuracy': 0.9495798319327731}\n",
      "Test f1:  {'f1': 0.9496551412379577}\n"
     ]
    }
   ],
   "source": [
    "accuracy, f1, predictions_list, labels_list = evaluate_model(model_lora, test_dataloader_combine, device)"
   ]
  },
  {
   "cell_type": "code",
   "execution_count": 13,
   "metadata": {
    "colab": {
     "base_uri": "https://localhost:8080/",
     "height": 430
    },
    "id": "xmFrpcLuBpGV",
    "outputId": "71930491-5d03-41e5-ca3a-7d0a99eff0f1"
   },
   "outputs": [
    {
     "data": {
      "image/png": "[encoded data removed]",
      "text/plain": [
       "<Figure size 640x480 with 2 Axes>"
      ]
     },
     "metadata": {},
     "output_type": "display_data"
    }
   ],
   "source": [
    "plot_confusion_matrix(labels_list, predictions_list)"
   ]
  },
  {
   "cell_type": "code",
   "execution_count": 14,
   "metadata": {
    "colab": {
     "base_uri": "https://localhost:8080/"
    },
    "id": "xAGNfblQBwqR",
    "outputId": "4a2ebc09-b553-41b8-e4ce-ca8f10f7afcd"
   },
   "outputs": [
    {
     "name": "stderr",
     "output_type": "stream",
     "text": [
      "Some weights of RobertaForSequenceClassification were not initialized from the model checkpoint at roberta-large and are newly initialized: ['classifier.dense.bias', 'classifier.dense.weight', 'classifier.out_proj.bias', 'classifier.out_proj.weight']\n",
      "You should probably TRAIN this model on a down-stream task to be able to use it for predictions and inference.\n"
     ]
    },
    {
     "name": "stdout",
     "output_type": "stream",
     "text": [
      "Example 1\n",
      "The Committee anticipates that ongoing increases in the target range for the federal funds rate will be appropriate.\n",
      "correct answer: Hawkish\n",
      "predicted classification:  Hawkish\n",
      "=====================================================\n",
      "Example 2\n",
      "In light of the softer economic outlook, we will maintain the current federal funds rate.\n",
      "correct answer: Dovish\n",
      "predicted classification:  Dovish\n",
      "=====================================================\n",
      "Example 3\n",
      "Economic activity has been rising at a strong rate.\n",
      "correct answer: Neutral\n",
      "predicted classification:  Hawkish\n",
      "=====================================================\n",
      "Example 4\n",
      "Considering the elevated inflation pressures, we may consider further rate hikes.\n",
      "correct answer: Hawkish\n",
      "predicted classification:  Hawkish\n",
      "=====================================================\n",
      "Example 5\n",
      "The labor market continues to strengthen, but inflation remains below our 2 percent longer-run objective.\n",
      "correct answer: Dovish\n",
      "predicted classification:  Dovish\n",
      "=====================================================\n"
     ]
    }
   ],
   "source": [
    "# test some cases\n",
    "lora_model_combinedata_name = 'lora-model-combinedata'\n",
    "lora_tokenizer_combinedata_name = 'lora-tokenizer-combinedata'\n",
    "\n",
    "# Save model\n",
    "tokenizer.save_pretrained(lora_tokenizer_combinedata_name)\n",
    "model_lora.save_pretrained(lora_model_combinedata_name)\n",
    "\n",
    "run_test_cases(lora_model_combinedata_name, lora_tokenizer_combinedata_name)"
   ]
  },
  {
   "cell_type": "markdown",
   "metadata": {
    "id": "cAqfAjraAEM4"
   },
   "source": [
    "## Train and evaluate on split combine  data"
   ]
  },
  {
   "cell_type": "code",
   "execution_count": 15,
   "metadata": {
    "id": "eU5i4BpaAFfS"
   },
   "outputs": [],
   "source": [
    "train_split_combine_data_path = \"../data_PEFT/lab-manual-split-combine-train.xlsx\"\n",
    "test_split_combine_data_path = \"../data_PEFT/lab-manual-split-combine-test.xlsx\"\n",
    "\n",
    "sentences_split_combine, labels_split_combine, sentences_test_split_combine, labels_test_split_combine = load_data(train_split_combine_data_path,\n",
    "                                                                                                                   test_split_combine_data_path)"
   ]
  },
  {
   "cell_type": "code",
   "execution_count": null,
   "metadata": {
    "id": "oerfv2BkAKjC"
   },
   "outputs": [],
   "source": [
    "language_model_to_use = 'roberta-large'\n",
    "batch_size = 16\n",
    "\n",
    "train_val_dataloader_split_combine = prepare_dataloader(language_model_to_use,\n",
    "                                                        sentences_split_combine,\n",
    "                                                        labels_split_combine,\n",
    "                                                        batch_size,\n",
    "                                                        device,\n",
    "                                                        return_train_dataloader=True)\n",
    "test_dataloader_split_combine = prepare_dataloader(language_model_to_use,\n",
    "                                                   sentences_test_split_combine,\n",
    "                                                   labels_test_split_combine,\n",
    "                                                   batch_size,\n",
    "                                                   device,\n",
    "                                                   return_train_dataloader=False)"
   ]
  },
  {
   "cell_type": "code",
   "execution_count": null,
   "metadata": {
    "id": "cXKiAEy2AOq4"
   },
   "outputs": [],
   "source": [
    "peft_config = LoraConfig(task_type=\"SEQ_CLS\", inference_mode=False, r=8, lora_alpha=16, lora_dropout=0.1)\n",
    "peft_type = PeftType.LORA\n",
    "\n",
    "tokenizer, model = load_tokenizer_model(language_model_to_use, device)\n",
    "model_lora = get_peft_model(model, peft_config)\n",
    "model_lora.print_trainable_parameters()\n",
    "model_lora\n",
    "# trainable params: 1,839,107 || all params: 357,201,926 || trainable%: 0.5148648050682683"
   ]
  },
  {
   "cell_type": "code",
   "execution_count": 20,
   "metadata": {
    "id": "ohe2R3Z2AQPx"
   },
   "outputs": [],
   "source": [
    "optimizer = AdamW(params=model.parameters(), lr=1e-4)\n",
    "num_epochs = 10\n",
    "num_training_steps = len(train_val_dataloader_split_combine['train']) * num_epochs\n",
    "\n",
    "# Instantiate scheduler\n",
    "lr_scheduler = get_linear_schedule_with_warmup(\n",
    "    optimizer=optimizer,\n",
    "    num_warmup_steps=0.06 * (len(train_val_dataloader_split_combine['train']) * num_epochs),\n",
    "    num_training_steps=num_training_steps,\n",
    ")"
   ]
  },
  {
   "cell_type": "code",
   "execution_count": 25,
   "metadata": {
    "colab": {
     "base_uri": "https://localhost:8080/"
    },
    "id": "iCj-L8f8WDQ7",
    "outputId": "cfa50f5f-66c8-4266-8b85-246ab8024bc8"
   },
   "outputs": [
    {
     "name": "stderr",
     "output_type": "stream",
     "text": [
      "100%|██████████| 298/298 [07:54<00:00,  1.59s/it]\n"
     ]
    },
    {
     "name": "stdout",
     "output_type": "stream",
     "text": [
      "Epoch [1/10], Training loss: 1.0729\n"
     ]
    },
    {
     "name": "stderr",
     "output_type": "stream",
     "text": [
      "100%|██████████| 75/75 [00:54<00:00,  1.38it/s]\n"
     ]
    },
    {
     "name": "stdout",
     "output_type": "stream",
     "text": [
      "Epoch [1/10], Validation accuracy:\n",
      "{'accuracy': 0.6747899159663866}\n",
      "Epoch [1/10], Validation f1:\n",
      "{'f1': 0.6592883910745359}\n",
      "---------------------------------------------------\n"
     ]
    },
    {
     "name": "stderr",
     "output_type": "stream",
     "text": [
      "100%|██████████| 298/298 [07:15<00:00,  1.46s/it]\n"
     ]
    },
    {
     "name": "stdout",
     "output_type": "stream",
     "text": [
      "Epoch [2/10], Training loss: 0.8904\n"
     ]
    },
    {
     "name": "stderr",
     "output_type": "stream",
     "text": [
      "100%|██████████| 75/75 [00:54<00:00,  1.38it/s]\n"
     ]
    },
    {
     "name": "stdout",
     "output_type": "stream",
     "text": [
      "Epoch [2/10], Validation accuracy:\n",
      "{'accuracy': 0.7697478991596639}\n",
      "Epoch [2/10], Validation f1:\n",
      "{'f1': 0.7659353964267}\n",
      "---------------------------------------------------\n"
     ]
    },
    {
     "name": "stderr",
     "output_type": "stream",
     "text": [
      "100%|██████████| 298/298 [07:15<00:00,  1.46s/it]\n"
     ]
    },
    {
     "name": "stdout",
     "output_type": "stream",
     "text": [
      "Epoch [3/10], Training loss: 0.2075\n"
     ]
    },
    {
     "name": "stderr",
     "output_type": "stream",
     "text": [
      "100%|██████████| 75/75 [00:54<00:00,  1.38it/s]\n"
     ]
    },
    {
     "name": "stdout",
     "output_type": "stream",
     "text": [
      "Epoch [3/10], Validation accuracy:\n",
      "{'accuracy': 0.865546218487395}\n",
      "Epoch [3/10], Validation f1:\n",
      "{'f1': 0.8652691800224354}\n",
      "---------------------------------------------------\n"
     ]
    },
    {
     "name": "stderr",
     "output_type": "stream",
     "text": [
      "100%|██████████| 298/298 [07:15<00:00,  1.46s/it]\n"
     ]
    },
    {
     "name": "stdout",
     "output_type": "stream",
     "text": [
      "Epoch [4/10], Training loss: 0.2439\n"
     ]
    },
    {
     "name": "stderr",
     "output_type": "stream",
     "text": [
      "100%|██████████| 75/75 [00:54<00:00,  1.38it/s]\n"
     ]
    },
    {
     "name": "stdout",
     "output_type": "stream",
     "text": [
      "Epoch [4/10], Validation accuracy:\n",
      "{'accuracy': 0.9319327731092437}\n",
      "Epoch [4/10], Validation f1:\n",
      "{'f1': 0.9321113810371625}\n",
      "---------------------------------------------------\n"
     ]
    },
    {
     "name": "stderr",
     "output_type": "stream",
     "text": [
      "100%|██████████| 298/298 [07:15<00:00,  1.46s/it]\n"
     ]
    },
    {
     "name": "stdout",
     "output_type": "stream",
     "text": [
      "Epoch [5/10], Training loss: 0.0224\n"
     ]
    },
    {
     "name": "stderr",
     "output_type": "stream",
     "text": [
      "100%|██████████| 75/75 [00:54<00:00,  1.38it/s]\n"
     ]
    },
    {
     "name": "stdout",
     "output_type": "stream",
     "text": [
      "Epoch [5/10], Validation accuracy:\n",
      "{'accuracy': 0.9605042016806723}\n",
      "Epoch [5/10], Validation f1:\n",
      "{'f1': 0.960494467350163}\n",
      "---------------------------------------------------\n"
     ]
    },
    {
     "name": "stderr",
     "output_type": "stream",
     "text": [
      "100%|██████████| 298/298 [07:15<00:00,  1.46s/it]\n"
     ]
    },
    {
     "name": "stdout",
     "output_type": "stream",
     "text": [
      "Epoch [6/10], Training loss: 0.0059\n"
     ]
    },
    {
     "name": "stderr",
     "output_type": "stream",
     "text": [
      "100%|██████████| 75/75 [00:54<00:00,  1.38it/s]\n"
     ]
    },
    {
     "name": "stdout",
     "output_type": "stream",
     "text": [
      "Epoch [6/10], Validation accuracy:\n",
      "{'accuracy': 0.9705882352941176}\n",
      "Epoch [6/10], Validation f1:\n",
      "{'f1': 0.970573787137673}\n",
      "---------------------------------------------------\n"
     ]
    },
    {
     "name": "stderr",
     "output_type": "stream",
     "text": [
      "100%|██████████| 298/298 [07:15<00:00,  1.46s/it]\n"
     ]
    },
    {
     "name": "stdout",
     "output_type": "stream",
     "text": [
      "Epoch [7/10], Training loss: 0.3443\n"
     ]
    },
    {
     "name": "stderr",
     "output_type": "stream",
     "text": [
      "100%|██████████| 75/75 [00:54<00:00,  1.38it/s]\n"
     ]
    },
    {
     "name": "stdout",
     "output_type": "stream",
     "text": [
      "Epoch [7/10], Validation accuracy:\n",
      "{'accuracy': 0.9764705882352941}\n",
      "Epoch [7/10], Validation f1:\n",
      "{'f1': 0.9764686575651207}\n",
      "---------------------------------------------------\n"
     ]
    },
    {
     "name": "stderr",
     "output_type": "stream",
     "text": [
      "100%|██████████| 298/298 [07:15<00:00,  1.46s/it]\n"
     ]
    },
    {
     "name": "stdout",
     "output_type": "stream",
     "text": [
      "Epoch [8/10], Training loss: 0.0022\n"
     ]
    },
    {
     "name": "stderr",
     "output_type": "stream",
     "text": [
      "100%|██████████| 75/75 [00:54<00:00,  1.38it/s]\n"
     ]
    },
    {
     "name": "stdout",
     "output_type": "stream",
     "text": [
      "Epoch [8/10], Validation accuracy:\n",
      "{'accuracy': 0.9747899159663865}\n",
      "Epoch [8/10], Validation f1:\n",
      "{'f1': 0.9747820943311669}\n",
      "---------------------------------------------------\n"
     ]
    },
    {
     "name": "stderr",
     "output_type": "stream",
     "text": [
      "100%|██████████| 298/298 [07:15<00:00,  1.46s/it]\n"
     ]
    },
    {
     "name": "stdout",
     "output_type": "stream",
     "text": [
      "Epoch [9/10], Training loss: 0.0021\n"
     ]
    },
    {
     "name": "stderr",
     "output_type": "stream",
     "text": [
      "100%|██████████| 75/75 [00:54<00:00,  1.38it/s]\n"
     ]
    },
    {
     "name": "stdout",
     "output_type": "stream",
     "text": [
      "Epoch [9/10], Validation accuracy:\n",
      "{'accuracy': 0.9773109243697479}\n",
      "Epoch [9/10], Validation f1:\n",
      "{'f1': 0.9773070327799965}\n",
      "---------------------------------------------------\n"
     ]
    },
    {
     "name": "stderr",
     "output_type": "stream",
     "text": [
      "100%|██████████| 298/298 [07:15<00:00,  1.46s/it]\n"
     ]
    },
    {
     "name": "stdout",
     "output_type": "stream",
     "text": [
      "Epoch [10/10], Training loss: 0.0036\n"
     ]
    },
    {
     "name": "stderr",
     "output_type": "stream",
     "text": [
      "100%|██████████| 75/75 [00:54<00:00,  1.38it/s]"
     ]
    },
    {
     "name": "stdout",
     "output_type": "stream",
     "text": [
      "Epoch [10/10], Validation accuracy:\n",
      "{'accuracy': 0.9747899159663865}\n",
      "Epoch [10/10], Validation f1:\n",
      "{'f1': 0.9747803543510529}\n",
      "---------------------------------------------------\n"
     ]
    },
    {
     "name": "stderr",
     "output_type": "stream",
     "text": [
      "\n"
     ]
    }
   ],
   "source": [
    "accuracy_list_splitdata, f1_list_splitdata = training_loop(model_lora,\n",
    "                                                           device,\n",
    "                                                           num_epochs,\n",
    "                                                           train_val_dataloader_split_combine,\n",
    "                                                           optimizer,\n",
    "                                                           lr_scheduler)"
   ]
  },
  {
   "cell_type": "code",
   "execution_count": 26,
   "metadata": {
    "colab": {
     "base_uri": "https://localhost:8080/"
    },
    "id": "yu6d63QKWS1g",
    "outputId": "29df2f68-ca4c-423e-b7c3-8795c4e65c21"
   },
   "outputs": [
    {
     "data": {
      "text/plain": [
       "[{'accuracy': 0.6747899159663866},\n",
       " {'accuracy': 0.7697478991596639},\n",
       " {'accuracy': 0.865546218487395},\n",
       " {'accuracy': 0.9319327731092437},\n",
       " {'accuracy': 0.9605042016806723},\n",
       " {'accuracy': 0.9705882352941176},\n",
       " {'accuracy': 0.9764705882352941},\n",
       " {'accuracy': 0.9747899159663865},\n",
       " {'accuracy': 0.9773109243697479},\n",
       " {'accuracy': 0.9747899159663865}]"
      ]
     },
     "execution_count": 26,
     "metadata": {},
     "output_type": "execute_result"
    }
   ],
   "source": [
    "accuracy_list_splitdata"
   ]
  },
  {
   "cell_type": "code",
   "execution_count": 27,
   "metadata": {
    "colab": {
     "base_uri": "https://localhost:8080/"
    },
    "id": "AM3HG9TOWTUY",
    "outputId": "62b8156b-9b6e-4200-feec-318884347779"
   },
   "outputs": [
    {
     "data": {
      "text/plain": [
       "[{'f1': 0.6592883910745359},\n",
       " {'f1': 0.7659353964267},\n",
       " {'f1': 0.8652691800224354},\n",
       " {'f1': 0.9321113810371625},\n",
       " {'f1': 0.960494467350163},\n",
       " {'f1': 0.970573787137673},\n",
       " {'f1': 0.9764686575651207},\n",
       " {'f1': 0.9747820943311669},\n",
       " {'f1': 0.9773070327799965},\n",
       " {'f1': 0.9747803543510529}]"
      ]
     },
     "execution_count": 27,
     "metadata": {},
     "output_type": "execute_result"
    }
   ],
   "source": [
    "f1_list_splitdata"
   ]
  },
  {
   "cell_type": "code",
   "execution_count": 29,
   "metadata": {
    "colab": {
     "base_uri": "https://localhost:8080/"
    },
    "id": "flIe7aIvASb9",
    "outputId": "701b1e4f-a156-40c9-f1c8-6020ad7c5c7d"
   },
   "outputs": [
    {
     "name": "stdout",
     "output_type": "stream",
     "text": [
      "Test accuracy:  {'accuracy': 0.9684139784946236}\n",
      "Test f1:  {'f1': 0.9684131900906677}\n"
     ]
    }
   ],
   "source": [
    "accuracy_splitdata, f1_splitdata, predictions_list_splitdata, labels_list_splitdata = evaluate_model(model_lora,\n",
    "                                                                                                     test_dataloader_split_combine,\n",
    "                                                                                                     device)"
   ]
  },
  {
   "cell_type": "code",
   "execution_count": 30,
   "metadata": {
    "colab": {
     "base_uri": "https://localhost:8080/",
     "height": 430
    },
    "id": "xgv0R0frE4tL",
    "outputId": "e088a7ec-d984-4b06-e00e-8facd6246483"
   },
   "outputs": [
    {
     "data": {
      "image/png": "[encoded data removed]",
      "text/plain": [
       "<Figure size 640x480 with 2 Axes>"
      ]
     },
     "metadata": {},
     "output_type": "display_data"
    }
   ],
   "source": [
    "plot_confusion_matrix(labels_list_splitdata, predictions_list_splitdata)"
   ]
  },
  {
   "cell_type": "code",
   "execution_count": 31,
   "metadata": {
    "colab": {
     "base_uri": "https://localhost:8080/"
    },
    "id": "LtGXFURqE7mE",
    "outputId": "e59415ec-8afa-4722-d447-f34031076a62"
   },
   "outputs": [
    {
     "name": "stderr",
     "output_type": "stream",
     "text": [
      "Some weights of RobertaForSequenceClassification were not initialized from the model checkpoint at roberta-large and are newly initialized: ['classifier.dense.bias', 'classifier.dense.weight', 'classifier.out_proj.bias', 'classifier.out_proj.weight']\n",
      "You should probably TRAIN this model on a down-stream task to be able to use it for predictions and inference.\n"
     ]
    },
    {
     "name": "stdout",
     "output_type": "stream",
     "text": [
      "Example 1\n",
      "The Committee anticipates that ongoing increases in the target range for the federal funds rate will be appropriate.\n",
      "correct answer: Hawkish\n",
      "predicted classification:  Hawkish\n",
      "=====================================================\n",
      "Example 2\n",
      "In light of the softer economic outlook, we will maintain the current federal funds rate.\n",
      "correct answer: Dovish\n",
      "predicted classification:  Dovish\n",
      "=====================================================\n",
      "Example 3\n",
      "Economic activity has been rising at a strong rate.\n",
      "correct answer: Neutral\n",
      "predicted classification:  Hawkish\n",
      "=====================================================\n",
      "Example 4\n",
      "Considering the elevated inflation pressures, we may consider further rate hikes.\n",
      "correct answer: Hawkish\n",
      "predicted classification:  Hawkish\n",
      "=====================================================\n",
      "Example 5\n",
      "The labor market continues to strengthen, but inflation remains below our 2 percent longer-run objective.\n",
      "correct answer: Dovish\n",
      "predicted classification:  Dovish\n",
      "=====================================================\n"
     ]
    }
   ],
   "source": [
    "# test some cases\n",
    "lora_model_splitdata_name = 'lora-model-splitdata'\n",
    "lora_tokenizer_splitdata_name = 'lora-tokenizer-splitdata'\n",
    "\n",
    "# Save model\n",
    "tokenizer.save_pretrained(lora_tokenizer_splitdata_name)\n",
    "model_lora.save_pretrained(lora_model_splitdata_name)\n",
    "\n",
    "run_test_cases(lora_model_splitdata_name, lora_tokenizer_splitdata_name)"
   ]
  }
 ],
 "metadata": {
  "accelerator": "GPU",
  "colab": {
   "gpuType": "T4",
   "machine_shape": "hm",
   "provenance": []
  },
  "kernelspec": {
   "display_name": "Python 3 (ipykernel)",
   "language": "python",
   "name": "python3"
  },
  "language_info": {
   "codemirror_mode": {
    "name": "ipython",
    "version": 3
   },
   "file_extension": ".py",
   "mimetype": "text/x-python",
   "name": "python",
   "nbconvert_exporter": "python",
   "pygments_lexer": "ipython3",
   "version": "3.7.11"
  },
  "widgets": {
   "application/vnd.jupyter.widget-state+json": {
    "0cdcc38cb78142f6a21468dc75ba7bda": {
     "model_module": "@jupyter-widgets/controls",
     "model_module_version": "1.5.0",
     "model_name": "HBoxModel",
     "state": {
      "_dom_classes": [],
      "_model_module": "@jupyter-widgets/controls",
      "_model_module_version": "1.5.0",
      "_model_name": "HBoxModel",
      "_view_count": null,
      "_view_module": "@jupyter-widgets/controls",
      "_view_module_version": "1.5.0",
      "_view_name": "HBoxView",
      "box_style": "",
      "children": [
       "IPY_MODEL_1f77c685324a4ed68c31318b4826916a",
       "IPY_MODEL_8a5b3005074644cbab2c251e934f55de",
       "IPY_MODEL_d295c035bc834d2e8ceac6ea10049ec6"
      ],
      "layout": "IPY_MODEL_bb06c85623654b21920f02e85c9f7ecf"
     }
    },
    "1328aa57fabc4d7bb44bdc24d2d287bc": {
     "model_module": "@jupyter-widgets/controls",
     "model_module_version": "1.5.0",
     "model_name": "HBoxModel",
     "state": {
      "_dom_classes": [],
      "_model_module": "@jupyter-widgets/controls",
      "_model_module_version": "1.5.0",
      "_model_name": "HBoxModel",
      "_view_count": null,
      "_view_module": "@jupyter-widgets/controls",
      "_view_module_version": "1.5.0",
      "_view_name": "HBoxView",
      "box_style": "",
      "children": [
       "IPY_MODEL_e1938929d5fa46fcab38a75de665b83b",
       "IPY_MODEL_9bc8fe2bca3b4475990f08560de54171",
       "IPY_MODEL_3a325b130d7545c5af651c39a630afdf"
      ],
      "layout": "IPY_MODEL_d82459be0ba748dfb396be98cac8ef61"
     }
    },
    "189c8ee749104f8098650a76eedcf8cc": {
     "model_module": "@jupyter-widgets/base",
     "model_module_version": "1.2.0",
     "model_name": "LayoutModel",
     "state": {
      "_model_module": "@jupyter-widgets/base",
      "_model_module_version": "1.2.0",
      "_model_name": "LayoutModel",
      "_view_count": null,
      "_view_module": "@jupyter-widgets/base",
      "_view_module_version": "1.2.0",
      "_view_name": "LayoutView",
      "align_content": null,
      "align_items": null,
      "align_self": null,
      "border": null,
      "bottom": null,
      "display": null,
      "flex": null,
      "flex_flow": null,
      "grid_area": null,
      "grid_auto_columns": null,
      "grid_auto_flow": null,
      "grid_auto_rows": null,
      "grid_column": null,
      "grid_gap": null,
      "grid_row": null,
      "grid_template_areas": null,
      "grid_template_columns": null,
      "grid_template_rows": null,
      "height": null,
      "justify_content": null,
      "justify_items": null,
      "left": null,
      "margin": null,
      "max_height": null,
      "max_width": null,
      "min_height": null,
      "min_width": null,
      "object_fit": null,
      "object_position": null,
      "order": null,
      "overflow": null,
      "overflow_x": null,
      "overflow_y": null,
      "padding": null,
      "right": null,
      "top": null,
      "visibility": null,
      "width": null
     }
    },
    "1f77c685324a4ed68c31318b4826916a": {
     "model_module": "@jupyter-widgets/controls",
     "model_module_version": "1.5.0",
     "model_name": "HTMLModel",
     "state": {
      "_dom_classes": [],
      "_model_module": "@jupyter-widgets/controls",
      "_model_module_version": "1.5.0",
      "_model_name": "HTMLModel",
      "_view_count": null,
      "_view_module": "@jupyter-widgets/controls",
      "_view_module_version": "1.5.0",
      "_view_name": "HTMLView",
      "description": "",
      "description_tooltip": null,
      "layout": "IPY_MODEL_189c8ee749104f8098650a76eedcf8cc",
      "placeholder": "​",
      "style": "IPY_MODEL_cfcec0cbf830413dbc1d52f47ab2c731",
      "value": "Downloading builder script: 100%"
     }
    },
    "1fd87fe4aad14c5ba188bd28608ff93a": {
     "model_module": "@jupyter-widgets/controls",
     "model_module_version": "1.5.0",
     "model_name": "DescriptionStyleModel",
     "state": {
      "_model_module": "@jupyter-widgets/controls",
      "_model_module_version": "1.5.0",
      "_model_name": "DescriptionStyleModel",
      "_view_count": null,
      "_view_module": "@jupyter-widgets/base",
      "_view_module_version": "1.2.0",
      "_view_name": "StyleView",
      "description_width": ""
     }
    },
    "3a325b130d7545c5af651c39a630afdf": {
     "model_module": "@jupyter-widgets/controls",
     "model_module_version": "1.5.0",
     "model_name": "HTMLModel",
     "state": {
      "_dom_classes": [],
      "_model_module": "@jupyter-widgets/controls",
      "_model_module_version": "1.5.0",
      "_model_name": "HTMLModel",
      "_view_count": null,
      "_view_module": "@jupyter-widgets/controls",
      "_view_module_version": "1.5.0",
      "_view_name": "HTMLView",
      "description": "",
      "description_tooltip": null,
      "layout": "IPY_MODEL_e71d0f358a9c4d37aee5c6607323498d",
      "placeholder": "​",
      "style": "IPY_MODEL_5203dd5eada04737a75d83f0c6ff928c",
      "value": " 6.77k/6.77k [00:00&lt;00:00, 545kB/s]"
     }
    },
    "41aa5b826fdd468cacae5afa05376f5e": {
     "model_module": "@jupyter-widgets/controls",
     "model_module_version": "1.5.0",
     "model_name": "ProgressStyleModel",
     "state": {
      "_model_module": "@jupyter-widgets/controls",
      "_model_module_version": "1.5.0",
      "_model_name": "ProgressStyleModel",
      "_view_count": null,
      "_view_module": "@jupyter-widgets/base",
      "_view_module_version": "1.2.0",
      "_view_name": "StyleView",
      "bar_color": null,
      "description_width": ""
     }
    },
    "47c73338dbf0490eaf8918edce2c40ed": {
     "model_module": "@jupyter-widgets/base",
     "model_module_version": "1.2.0",
     "model_name": "LayoutModel",
     "state": {
      "_model_module": "@jupyter-widgets/base",
      "_model_module_version": "1.2.0",
      "_model_name": "LayoutModel",
      "_view_count": null,
      "_view_module": "@jupyter-widgets/base",
      "_view_module_version": "1.2.0",
      "_view_name": "LayoutView",
      "align_content": null,
      "align_items": null,
      "align_self": null,
      "border": null,
      "bottom": null,
      "display": null,
      "flex": null,
      "flex_flow": null,
      "grid_area": null,
      "grid_auto_columns": null,
      "grid_auto_flow": null,
      "grid_auto_rows": null,
      "grid_column": null,
      "grid_gap": null,
      "grid_row": null,
      "grid_template_areas": null,
      "grid_template_columns": null,
      "grid_template_rows": null,
      "height": null,
      "justify_content": null,
      "justify_items": null,
      "left": null,
      "margin": null,
      "max_height": null,
      "max_width": null,
      "min_height": null,
      "min_width": null,
      "object_fit": null,
      "object_position": null,
      "order": null,
      "overflow": null,
      "overflow_x": null,
      "overflow_y": null,
      "padding": null,
      "right": null,
      "top": null,
      "visibility": null,
      "width": null
     }
    },
    "5203dd5eada04737a75d83f0c6ff928c": {
     "model_module": "@jupyter-widgets/controls",
     "model_module_version": "1.5.0",
     "model_name": "DescriptionStyleModel",
     "state": {
      "_model_module": "@jupyter-widgets/controls",
      "_model_module_version": "1.5.0",
      "_model_name": "DescriptionStyleModel",
      "_view_count": null,
      "_view_module": "@jupyter-widgets/base",
      "_view_module_version": "1.2.0",
      "_view_name": "StyleView",
      "description_width": ""
     }
    },
    "5210824c34124cdc9938796f9aec80f9": {
     "model_module": "@jupyter-widgets/base",
     "model_module_version": "1.2.0",
     "model_name": "LayoutModel",
     "state": {
      "_model_module": "@jupyter-widgets/base",
      "_model_module_version": "1.2.0",
      "_model_name": "LayoutModel",
      "_view_count": null,
      "_view_module": "@jupyter-widgets/base",
      "_view_module_version": "1.2.0",
      "_view_name": "LayoutView",
      "align_content": null,
      "align_items": null,
      "align_self": null,
      "border": null,
      "bottom": null,
      "display": null,
      "flex": null,
      "flex_flow": null,
      "grid_area": null,
      "grid_auto_columns": null,
      "grid_auto_flow": null,
      "grid_auto_rows": null,
      "grid_column": null,
      "grid_gap": null,
      "grid_row": null,
      "grid_template_areas": null,
      "grid_template_columns": null,
      "grid_template_rows": null,
      "height": null,
      "justify_content": null,
      "justify_items": null,
      "left": null,
      "margin": null,
      "max_height": null,
      "max_width": null,
      "min_height": null,
      "min_width": null,
      "object_fit": null,
      "object_position": null,
      "order": null,
      "overflow": null,
      "overflow_x": null,
      "overflow_y": null,
      "padding": null,
      "right": null,
      "top": null,
      "visibility": null,
      "width": null
     }
    },
    "73544a05a374427295112928617c45b4": {
     "model_module": "@jupyter-widgets/controls",
     "model_module_version": "1.5.0",
     "model_name": "DescriptionStyleModel",
     "state": {
      "_model_module": "@jupyter-widgets/controls",
      "_model_module_version": "1.5.0",
      "_model_name": "DescriptionStyleModel",
      "_view_count": null,
      "_view_module": "@jupyter-widgets/base",
      "_view_module_version": "1.2.0",
      "_view_name": "StyleView",
      "description_width": ""
     }
    },
    "89a4562be18746b7af48c13657cd1171": {
     "model_module": "@jupyter-widgets/controls",
     "model_module_version": "1.5.0",
     "model_name": "ProgressStyleModel",
     "state": {
      "_model_module": "@jupyter-widgets/controls",
      "_model_module_version": "1.5.0",
      "_model_name": "ProgressStyleModel",
      "_view_count": null,
      "_view_module": "@jupyter-widgets/base",
      "_view_module_version": "1.2.0",
      "_view_name": "StyleView",
      "bar_color": null,
      "description_width": ""
     }
    },
    "8a5b3005074644cbab2c251e934f55de": {
     "model_module": "@jupyter-widgets/controls",
     "model_module_version": "1.5.0",
     "model_name": "FloatProgressModel",
     "state": {
      "_dom_classes": [],
      "_model_module": "@jupyter-widgets/controls",
      "_model_module_version": "1.5.0",
      "_model_name": "FloatProgressModel",
      "_view_count": null,
      "_view_module": "@jupyter-widgets/controls",
      "_view_module_version": "1.5.0",
      "_view_name": "ProgressView",
      "bar_style": "success",
      "description": "",
      "description_tooltip": null,
      "layout": "IPY_MODEL_ee2666197d614ca0a9bd49c5578ab1d7",
      "max": 4203,
      "min": 0,
      "orientation": "horizontal",
      "style": "IPY_MODEL_89a4562be18746b7af48c13657cd1171",
      "value": 4203
     }
    },
    "9bc8fe2bca3b4475990f08560de54171": {
     "model_module": "@jupyter-widgets/controls",
     "model_module_version": "1.5.0",
     "model_name": "FloatProgressModel",
     "state": {
      "_dom_classes": [],
      "_model_module": "@jupyter-widgets/controls",
      "_model_module_version": "1.5.0",
      "_model_name": "FloatProgressModel",
      "_view_count": null,
      "_view_module": "@jupyter-widgets/controls",
      "_view_module_version": "1.5.0",
      "_view_name": "ProgressView",
      "bar_style": "success",
      "description": "",
      "description_tooltip": null,
      "layout": "IPY_MODEL_d602989d225240189d8422e3989a554c",
      "max": 6771,
      "min": 0,
      "orientation": "horizontal",
      "style": "IPY_MODEL_41aa5b826fdd468cacae5afa05376f5e",
      "value": 6771
     }
    },
    "bb06c85623654b21920f02e85c9f7ecf": {
     "model_module": "@jupyter-widgets/base",
     "model_module_version": "1.2.0",
     "model_name": "LayoutModel",
     "state": {
      "_model_module": "@jupyter-widgets/base",
      "_model_module_version": "1.2.0",
      "_model_name": "LayoutModel",
      "_view_count": null,
      "_view_module": "@jupyter-widgets/base",
      "_view_module_version": "1.2.0",
      "_view_name": "LayoutView",
      "align_content": null,
      "align_items": null,
      "align_self": null,
      "border": null,
      "bottom": null,
      "display": null,
      "flex": null,
      "flex_flow": null,
      "grid_area": null,
      "grid_auto_columns": null,
      "grid_auto_flow": null,
      "grid_auto_rows": null,
      "grid_column": null,
      "grid_gap": null,
      "grid_row": null,
      "grid_template_areas": null,
      "grid_template_columns": null,
      "grid_template_rows": null,
      "height": null,
      "justify_content": null,
      "justify_items": null,
      "left": null,
      "margin": null,
      "max_height": null,
      "max_width": null,
      "min_height": null,
      "min_width": null,
      "object_fit": null,
      "object_position": null,
      "order": null,
      "overflow": null,
      "overflow_x": null,
      "overflow_y": null,
      "padding": null,
      "right": null,
      "top": null,
      "visibility": null,
      "width": null
     }
    },
    "cfcec0cbf830413dbc1d52f47ab2c731": {
     "model_module": "@jupyter-widgets/controls",
     "model_module_version": "1.5.0",
     "model_name": "DescriptionStyleModel",
     "state": {
      "_model_module": "@jupyter-widgets/controls",
      "_model_module_version": "1.5.0",
      "_model_name": "DescriptionStyleModel",
      "_view_count": null,
      "_view_module": "@jupyter-widgets/base",
      "_view_module_version": "1.2.0",
      "_view_name": "StyleView",
      "description_width": ""
     }
    },
    "d295c035bc834d2e8ceac6ea10049ec6": {
     "model_module": "@jupyter-widgets/controls",
     "model_module_version": "1.5.0",
     "model_name": "HTMLModel",
     "state": {
      "_dom_classes": [],
      "_model_module": "@jupyter-widgets/controls",
      "_model_module_version": "1.5.0",
      "_model_name": "HTMLModel",
      "_view_count": null,
      "_view_module": "@jupyter-widgets/controls",
      "_view_module_version": "1.5.0",
      "_view_name": "HTMLView",
      "description": "",
      "description_tooltip": null,
      "layout": "IPY_MODEL_47c73338dbf0490eaf8918edce2c40ed",
      "placeholder": "​",
      "style": "IPY_MODEL_73544a05a374427295112928617c45b4",
      "value": " 4.20k/4.20k [00:00&lt;00:00, 303kB/s]"
     }
    },
    "d602989d225240189d8422e3989a554c": {
     "model_module": "@jupyter-widgets/base",
     "model_module_version": "1.2.0",
     "model_name": "LayoutModel",
     "state": {
      "_model_module": "@jupyter-widgets/base",
      "_model_module_version": "1.2.0",
      "_model_name": "LayoutModel",
      "_view_count": null,
      "_view_module": "@jupyter-widgets/base",
      "_view_module_version": "1.2.0",
      "_view_name": "LayoutView",
      "align_content": null,
      "align_items": null,
      "align_self": null,
      "border": null,
      "bottom": null,
      "display": null,
      "flex": null,
      "flex_flow": null,
      "grid_area": null,
      "grid_auto_columns": null,
      "grid_auto_flow": null,
      "grid_auto_rows": null,
      "grid_column": null,
      "grid_gap": null,
      "grid_row": null,
      "grid_template_areas": null,
      "grid_template_columns": null,
      "grid_template_rows": null,
      "height": null,
      "justify_content": null,
      "justify_items": null,
      "left": null,
      "margin": null,
      "max_height": null,
      "max_width": null,
      "min_height": null,
      "min_width": null,
      "object_fit": null,
      "object_position": null,
      "order": null,
      "overflow": null,
      "overflow_x": null,
      "overflow_y": null,
      "padding": null,
      "right": null,
      "top": null,
      "visibility": null,
      "width": null
     }
    },
    "d82459be0ba748dfb396be98cac8ef61": {
     "model_module": "@jupyter-widgets/base",
     "model_module_version": "1.2.0",
     "model_name": "LayoutModel",
     "state": {
      "_model_module": "@jupyter-widgets/base",
      "_model_module_version": "1.2.0",
      "_model_name": "LayoutModel",
      "_view_count": null,
      "_view_module": "@jupyter-widgets/base",
      "_view_module_version": "1.2.0",
      "_view_name": "LayoutView",
      "align_content": null,
      "align_items": null,
      "align_self": null,
      "border": null,
      "bottom": null,
      "display": null,
      "flex": null,
      "flex_flow": null,
      "grid_area": null,
      "grid_auto_columns": null,
      "grid_auto_flow": null,
      "grid_auto_rows": null,
      "grid_column": null,
      "grid_gap": null,
      "grid_row": null,
      "grid_template_areas": null,
      "grid_template_columns": null,
      "grid_template_rows": null,
      "height": null,
      "justify_content": null,
      "justify_items": null,
      "left": null,
      "margin": null,
      "max_height": null,
      "max_width": null,
      "min_height": null,
      "min_width": null,
      "object_fit": null,
      "object_position": null,
      "order": null,
      "overflow": null,
      "overflow_x": null,
      "overflow_y": null,
      "padding": null,
      "right": null,
      "top": null,
      "visibility": null,
      "width": null
     }
    },
    "e1938929d5fa46fcab38a75de665b83b": {
     "model_module": "@jupyter-widgets/controls",
     "model_module_version": "1.5.0",
     "model_name": "HTMLModel",
     "state": {
      "_dom_classes": [],
      "_model_module": "@jupyter-widgets/controls",
      "_model_module_version": "1.5.0",
      "_model_name": "HTMLModel",
      "_view_count": null,
      "_view_module": "@jupyter-widgets/controls",
      "_view_module_version": "1.5.0",
      "_view_name": "HTMLView",
      "description": "",
      "description_tooltip": null,
      "layout": "IPY_MODEL_5210824c34124cdc9938796f9aec80f9",
      "placeholder": "​",
      "style": "IPY_MODEL_1fd87fe4aad14c5ba188bd28608ff93a",
      "value": "Downloading builder script: 100%"
     }
    },
    "e71d0f358a9c4d37aee5c6607323498d": {
     "model_module": "@jupyter-widgets/base",
     "model_module_version": "1.2.0",
     "model_name": "LayoutModel",
     "state": {
      "_model_module": "@jupyter-widgets/base",
      "_model_module_version": "1.2.0",
      "_model_name": "LayoutModel",
      "_view_count": null,
      "_view_module": "@jupyter-widgets/base",
      "_view_module_version": "1.2.0",
      "_view_name": "LayoutView",
      "align_content": null,
      "align_items": null,
      "align_self": null,
      "border": null,
      "bottom": null,
      "display": null,
      "flex": null,
      "flex_flow": null,
      "grid_area": null,
      "grid_auto_columns": null,
      "grid_auto_flow": null,
      "grid_auto_rows": null,
      "grid_column": null,
      "grid_gap": null,
      "grid_row": null,
      "grid_template_areas": null,
      "grid_template_columns": null,
      "grid_template_rows": null,
      "height": null,
      "justify_content": null,
      "justify_items": null,
      "left": null,
      "margin": null,
      "max_height": null,
      "max_width": null,
      "min_height": null,
      "min_width": null,
      "object_fit": null,
      "object_position": null,
      "order": null,
      "overflow": null,
      "overflow_x": null,
      "overflow_y": null,
      "padding": null,
      "right": null,
      "top": null,
      "visibility": null,
      "width": null
     }
    },
    "ee2666197d614ca0a9bd49c5578ab1d7": {
     "model_module": "@jupyter-widgets/base",
     "model_module_version": "1.2.0",
     "model_name": "LayoutModel",
     "state": {
      "_model_module": "@jupyter-widgets/base",
      "_model_module_version": "1.2.0",
      "_model_name": "LayoutModel",
      "_view_count": null,
      "_view_module": "@jupyter-widgets/base",
      "_view_module_version": "1.2.0",
      "_view_name": "LayoutView",
      "align_content": null,
      "align_items": null,
      "align_self": null,
      "border": null,
      "bottom": null,
      "display": null,
      "flex": null,
      "flex_flow": null,
      "grid_area": null,
      "grid_auto_columns": null,
      "grid_auto_flow": null,
      "grid_auto_rows": null,
      "grid_column": null,
      "grid_gap": null,
      "grid_row": null,
      "grid_template_areas": null,
      "grid_template_columns": null,
      "grid_template_rows": null,
      "height": null,
      "justify_content": null,
      "justify_items": null,
      "left": null,
      "margin": null,
      "max_height": null,
      "max_width": null,
      "min_height": null,
      "min_width": null,
      "object_fit": null,
      "object_position": null,
      "order": null,
      "overflow": null,
      "overflow_x": null,
      "overflow_y": null,
      "padding": null,
      "right": null,
      "top": null,
      "visibility": null,
      "width": null
     }
    }
   }
  }
 },
 "nbformat": 4,
 "nbformat_minor": 1
}
