{
 "cells": [
  {
   "cell_type": "code",
   "execution_count": null,
   "metadata": {
    "id": "vlTjsUQVey3m"
   },
   "outputs": [],
   "source": [
    "# https://github.com/huggingface/peft/blob/main/examples/sequence_classification/Prompt_Tuning.ipynb\n",
    "# https://github.com/peremartra/Large-Language-Model-Notebooks-Course/blob/main/5-Fine%20Tuning/Prompt_Tuning_PEFT.ipynb\n",
    "# https://huggingface.co/docs/peft/main/en/task_guides/clm-prompt-tuning"
   ]
  },
  {
   "cell_type": "code",
   "execution_count": null,
   "metadata": {
    "id": "2VQOvnXze26f"
   },
   "outputs": [],
   "source": [
    "!pip install accelerate -U\n",
    "!pip install transformers datasets evaluate accelerate peft"
   ]
  },
  {
   "cell_type": "code",
   "execution_count": null,
   "metadata": {
    "id": "eonBusAMe4B3"
   },
   "outputs": [],
   "source": [
    "from google.colab import drive\n",
    "import pandas as pd\n",
    "import os\n",
    "import torch\n",
    "from torch.optim import AdamW\n",
    "from transformers import get_linear_schedule_with_warmup\n",
    "from peft import (\n",
    "    get_peft_config,\n",
    "    get_peft_model,\n",
    "    get_peft_model_state_dict,\n",
    "    set_peft_model_state_dict,\n",
    "    PromptTuningConfig,\n",
    "    PeftType,\n",
    "    PrefixTuningConfig,\n",
    "    PromptEncoderConfig,\n",
    ")"
   ]
  },
  {
   "cell_type": "code",
   "execution_count": null,
   "metadata": {
    "colab": {
     "base_uri": "https://localhost:8080/"
    },
    "id": "KEpqyy1Fe5Qs",
    "outputId": "d96d812e-aeb9-4f24-eaa6-4b28fff899a5"
   },
   "outputs": [
    {
     "name": "stdout",
     "output_type": "stream",
     "text": [
      "Drive already mounted at /content/drive; to attempt to forcibly remount, call drive.mount(\"/content/drive\", force_remount=True).\n"
     ]
    }
   ],
   "source": [
    "drive.mount('/content/drive')\n",
    "os.chdir('/content/drive/My Drive/Colab Notebooks/Comp545_FinalProject/code')\n",
    "\n",
    "from model.train import training_loop\n",
    "from model.evaluate import evaluate_model\n",
    "from utils.funcs import load_data, load_tokenizer_model, prepare_dataloader\n",
    "from utils.plot import plot_confusion_matrix\n",
    "from utils.test_cases import run_test_cases\n",
    "\n",
    "device = torch.device('cuda') if torch.cuda.is_available() else torch.device('cpu')"
   ]
  },
  {
   "cell_type": "markdown",
   "metadata": {
    "id": "o5uIR1_fe8G_"
   },
   "source": [
    "## Train and evaluate on combine data"
   ]
  },
  {
   "cell_type": "code",
   "execution_count": null,
   "metadata": {
    "id": "i9q12sGge6qA"
   },
   "outputs": [],
   "source": [
    "train_combine_data_path = \"../data_PEFT/lab-manual-combine-train.xlsx\"\n",
    "test_combine_data_path = \"../data_PEFT/lab-manual-combine-test.xlsx\"\n",
    "\n",
    "sentences_combine, labels_combine, sentences_test_combine, labels_test_combine = load_data(train_combine_data_path, test_combine_data_path)"
   ]
  },
  {
   "cell_type": "code",
   "execution_count": null,
   "metadata": {
    "colab": {
     "base_uri": "https://localhost:8080/"
    },
    "id": "ZzAzhlH6e92N",
    "outputId": "7dbd6d95-8862-45da-f4de-e6eede284cc3"
   },
   "outputs": [
    {
     "name": "stderr",
     "output_type": "stream",
     "text": [
      "Some weights of RobertaForSequenceClassification were not initialized from the model checkpoint at roberta-large and are newly initialized: ['classifier.dense.bias', 'classifier.dense.weight', 'classifier.out_proj.bias', 'classifier.out_proj.weight']\n",
      "You should probably TRAIN this model on a down-stream task to be able to use it for predictions and inference.\n"
     ]
    },
    {
     "name": "stdout",
     "output_type": "stream",
     "text": [
      "Train Size: 4568, Validation Size: 1141\n"
     ]
    },
    {
     "name": "stderr",
     "output_type": "stream",
     "text": [
      "Some weights of RobertaForSequenceClassification were not initialized from the model checkpoint at roberta-large and are newly initialized: ['classifier.dense.bias', 'classifier.dense.weight', 'classifier.out_proj.bias', 'classifier.out_proj.weight']\n",
      "You should probably TRAIN this model on a down-stream task to be able to use it for predictions and inference.\n"
     ]
    },
    {
     "name": "stdout",
     "output_type": "stream",
     "text": [
      "Test Size: 1428\n"
     ]
    }
   ],
   "source": [
    "language_model_to_use = 'roberta-large'\n",
    "batch_size = 16\n",
    "\n",
    "train_val_dataloader_combine = prepare_dataloader(language_model_to_use, sentences_combine, labels_combine, batch_size, device, return_train_dataloader=True)\n",
    "test_dataloader_combine = prepare_dataloader(language_model_to_use, sentences_test_combine, labels_test_combine, batch_size, device, return_train_dataloader=False)"
   ]
  },
  {
   "cell_type": "markdown",
   "metadata": {
    "id": "IekecXLbhkRB"
   },
   "source": [
    "https://huggingface.co/docs/peft/en/package_reference/prompt_tuning"
   ]
  },
  {
   "cell_type": "code",
   "execution_count": null,
   "metadata": {
    "colab": {
     "base_uri": "https://localhost:8080/"
    },
    "id": "InQKwagce_JM",
    "outputId": "83f3e490-b82e-4966-bf45-dd1e85620750"
   },
   "outputs": [
    {
     "name": "stderr",
     "output_type": "stream",
     "text": [
      "Some weights of RobertaForSequenceClassification were not initialized from the model checkpoint at roberta-large and are newly initialized: ['classifier.dense.bias', 'classifier.dense.weight', 'classifier.out_proj.bias', 'classifier.out_proj.weight']\n",
      "You should probably TRAIN this model on a down-stream task to be able to use it for predictions and inference.\n"
     ]
    },
    {
     "name": "stdout",
     "output_type": "stream",
     "text": [
      "trainable params: 1,062,915 || all params: 356,425,734 || trainable%: 0.2982149992570402\n"
     ]
    }
   ],
   "source": [
    "peft_config = PromptTuningConfig(task_type=\"SEQ_CLS\", peft_type=\"PROMPT_TUNING\", num_virtual_tokens=10)\n",
    "\n",
    "tokenizer, model = load_tokenizer_model(language_model_to_use, device)\n",
    "model_prompt_tuning = get_peft_model(model, peft_config)\n",
    "model_prompt_tuning.print_trainable_parameters()\n",
    "# model_prompt_tuning\n",
    "# trainable params: 1,062,915 || all params: 356,425,734 || trainable%: 0.2982149992570402"
   ]
  },
  {
   "cell_type": "code",
   "execution_count": null,
   "metadata": {
    "id": "Z_o39PFvi-2T"
   },
   "outputs": [],
   "source": [
    "optimizer = AdamW(params=model.parameters(), lr=1e-3)\n",
    "num_epochs = 20\n",
    "num_training_steps = len(train_val_dataloader_combine['train']) * num_epochs\n",
    "\n",
    "# Instantiate scheduler\n",
    "lr_scheduler = get_linear_schedule_with_warmup(\n",
    "    optimizer=optimizer,\n",
    "    num_warmup_steps=0.06 * (len(train_val_dataloader_combine['train']) * num_epochs),\n",
    "    num_training_steps=num_training_steps,\n",
    ")"
   ]
  },
  {
   "cell_type": "code",
   "execution_count": null,
   "metadata": {
    "colab": {
     "base_uri": "https://localhost:8080/",
     "height": 1000,
     "referenced_widgets": [
      "98ab681f466c4118816e09d04d530a5b",
      "7e5a6eefd4f54a1598cf6fcd7c321d0a",
      "cca0affd9c2e4d1cb554579adb1c761f",
      "f3cd385515684a3587722a58c59c43ed",
      "f76f390b611448e080336dfe3ba083c8",
      "1d47bd49e0f34add970de6cc7d2e215c",
      "965c303470604ed1bac57678f8d12802",
      "3c8f67bee8ae43aeb1aa36a80f700018",
      "8d05fc77b055462f86c5dad82b80b2a5",
      "ac101e38ce954b0caef8fcd9d44d625d",
      "3cb83880f8994c6a86c00d7c6c624a6a",
      "5051fcdc657843f79113432dfe500648",
      "08e4161daa87440aad514df9d2452d67",
      "310fe1759a5a48229e0eb371d6887965",
      "ad4866ca24a94271ab80a093d477d74c",
      "1c397eb1846044c89999bee36372e61b",
      "3c7ad9fa53ea447f9c271d7535bc25f1",
      "3f385c0240a0453d97e5eecf2898503e",
      "33ed17200b0a4f2b9024391fb3653637",
      "9a706e55f7ae4ae082cc6ddebf83c6d2",
      "eede9ed968dc44ce8941ee6a9074b7db",
      "d4e034781906493d90a44035ccf058e0"
     ]
    },
    "id": "SARfHB9ljATP",
    "outputId": "eef208a5-14b7-4012-b834-2ece8d12a1ae"
   },
   "outputs": [
    {
     "name": "stderr",
     "output_type": "stream",
     "text": [
      "100%|██████████| 286/286 [07:53<00:00,  1.66s/it]\n"
     ]
    },
    {
     "name": "stdout",
     "output_type": "stream",
     "text": [
      "Epoch [1/20], Training loss: 1.1235\n"
     ]
    },
    {
     "data": {
      "application/vnd.jupyter.widget-view+json": {
       "model_id": "98ab681f466c4118816e09d04d530a5b",
       "version_major": 2,
       "version_minor": 0
      },
      "text/plain": [
       "Downloading builder script:   0%|          | 0.00/4.20k [00:00<?, ?B/s]"
      ]
     },
     "metadata": {},
     "output_type": "display_data"
    },
    {
     "data": {
      "application/vnd.jupyter.widget-view+json": {
       "model_id": "5051fcdc657843f79113432dfe500648",
       "version_major": 2,
       "version_minor": 0
      },
      "text/plain": [
       "Downloading builder script:   0%|          | 0.00/6.77k [00:00<?, ?B/s]"
      ]
     },
     "metadata": {},
     "output_type": "display_data"
    },
    {
     "name": "stderr",
     "output_type": "stream",
     "text": [
      "100%|██████████| 72/72 [01:02<00:00,  1.16it/s]\n"
     ]
    },
    {
     "name": "stdout",
     "output_type": "stream",
     "text": [
      "Epoch [1/20], Validation accuracy:\n",
      "{'accuracy': 0.4119193689745837}\n",
      "Epoch [1/20], Validation f1:\n",
      "{'f1': 0.35752182090553036}\n",
      "---------------------------------------------------\n"
     ]
    },
    {
     "name": "stderr",
     "output_type": "stream",
     "text": [
      "100%|██████████| 286/286 [07:40<00:00,  1.61s/it]\n"
     ]
    },
    {
     "name": "stdout",
     "output_type": "stream",
     "text": [
      "Epoch [2/20], Training loss: 1.0561\n"
     ]
    },
    {
     "name": "stderr",
     "output_type": "stream",
     "text": [
      "100%|██████████| 72/72 [01:02<00:00,  1.16it/s]\n"
     ]
    },
    {
     "name": "stdout",
     "output_type": "stream",
     "text": [
      "Epoch [2/20], Validation accuracy:\n",
      "{'accuracy': 0.5241016652059597}\n",
      "Epoch [2/20], Validation f1:\n",
      "{'f1': 0.45054305354692953}\n",
      "---------------------------------------------------\n"
     ]
    },
    {
     "name": "stderr",
     "output_type": "stream",
     "text": [
      "100%|██████████| 286/286 [07:40<00:00,  1.61s/it]\n"
     ]
    },
    {
     "name": "stdout",
     "output_type": "stream",
     "text": [
      "Epoch [3/20], Training loss: 0.9706\n"
     ]
    },
    {
     "name": "stderr",
     "output_type": "stream",
     "text": [
      "100%|██████████| 72/72 [01:02<00:00,  1.16it/s]\n"
     ]
    },
    {
     "name": "stdout",
     "output_type": "stream",
     "text": [
      "Epoch [3/20], Validation accuracy:\n",
      "{'accuracy': 0.5205959684487291}\n",
      "Epoch [3/20], Validation f1:\n",
      "{'f1': 0.4245464984778701}\n",
      "---------------------------------------------------\n"
     ]
    },
    {
     "name": "stderr",
     "output_type": "stream",
     "text": [
      "100%|██████████| 286/286 [07:40<00:00,  1.61s/it]\n"
     ]
    },
    {
     "name": "stdout",
     "output_type": "stream",
     "text": [
      "Epoch [4/20], Training loss: 1.0599\n"
     ]
    },
    {
     "name": "stderr",
     "output_type": "stream",
     "text": [
      "100%|██████████| 72/72 [01:02<00:00,  1.16it/s]\n"
     ]
    },
    {
     "name": "stdout",
     "output_type": "stream",
     "text": [
      "Epoch [4/20], Validation accuracy:\n",
      "{'accuracy': 0.5153374233128835}\n",
      "Epoch [4/20], Validation f1:\n",
      "{'f1': 0.3945438571740542}\n",
      "---------------------------------------------------\n"
     ]
    },
    {
     "name": "stderr",
     "output_type": "stream",
     "text": [
      "100%|██████████| 286/286 [07:40<00:00,  1.61s/it]\n"
     ]
    },
    {
     "name": "stdout",
     "output_type": "stream",
     "text": [
      "Epoch [5/20], Training loss: 1.0194\n"
     ]
    },
    {
     "name": "stderr",
     "output_type": "stream",
     "text": [
      "100%|██████████| 72/72 [01:02<00:00,  1.16it/s]\n"
     ]
    },
    {
     "name": "stdout",
     "output_type": "stream",
     "text": [
      "Epoch [5/20], Validation accuracy:\n",
      "{'accuracy': 0.5241016652059597}\n",
      "Epoch [5/20], Validation f1:\n",
      "{'f1': 0.4742012518507838}\n",
      "---------------------------------------------------\n"
     ]
    },
    {
     "name": "stderr",
     "output_type": "stream",
     "text": [
      "100%|██████████| 286/286 [07:41<00:00,  1.61s/it]\n"
     ]
    },
    {
     "name": "stdout",
     "output_type": "stream",
     "text": [
      "Epoch [6/20], Training loss: 0.6981\n"
     ]
    },
    {
     "name": "stderr",
     "output_type": "stream",
     "text": [
      "100%|██████████| 72/72 [01:02<00:00,  1.16it/s]\n"
     ]
    },
    {
     "name": "stdout",
     "output_type": "stream",
     "text": [
      "Epoch [6/20], Validation accuracy:\n",
      "{'accuracy': 0.5065731814198072}\n",
      "Epoch [6/20], Validation f1:\n",
      "{'f1': 0.39087945456519474}\n",
      "---------------------------------------------------\n"
     ]
    },
    {
     "name": "stderr",
     "output_type": "stream",
     "text": [
      "100%|██████████| 286/286 [07:40<00:00,  1.61s/it]\n"
     ]
    },
    {
     "name": "stdout",
     "output_type": "stream",
     "text": [
      "Epoch [7/20], Training loss: 0.9922\n"
     ]
    },
    {
     "name": "stderr",
     "output_type": "stream",
     "text": [
      "100%|██████████| 72/72 [01:02<00:00,  1.16it/s]\n"
     ]
    },
    {
     "name": "stdout",
     "output_type": "stream",
     "text": [
      "Epoch [7/20], Validation accuracy:\n",
      "{'accuracy': 0.5337423312883436}\n",
      "Epoch [7/20], Validation f1:\n",
      "{'f1': 0.4561695560224007}\n",
      "---------------------------------------------------\n"
     ]
    },
    {
     "name": "stderr",
     "output_type": "stream",
     "text": [
      "100%|██████████| 286/286 [07:40<00:00,  1.61s/it]\n"
     ]
    },
    {
     "name": "stdout",
     "output_type": "stream",
     "text": [
      "Epoch [8/20], Training loss: 1.0255\n"
     ]
    },
    {
     "name": "stderr",
     "output_type": "stream",
     "text": [
      "100%|██████████| 72/72 [01:02<00:00,  1.16it/s]\n"
     ]
    },
    {
     "name": "stdout",
     "output_type": "stream",
     "text": [
      "Epoch [8/20], Validation accuracy:\n",
      "{'accuracy': 0.5486415425065732}\n",
      "Epoch [8/20], Validation f1:\n",
      "{'f1': 0.4774783228406919}\n",
      "---------------------------------------------------\n"
     ]
    },
    {
     "name": "stderr",
     "output_type": "stream",
     "text": [
      "100%|██████████| 286/286 [07:41<00:00,  1.61s/it]\n"
     ]
    },
    {
     "name": "stdout",
     "output_type": "stream",
     "text": [
      "Epoch [9/20], Training loss: 0.6571\n"
     ]
    },
    {
     "name": "stderr",
     "output_type": "stream",
     "text": [
      "100%|██████████| 72/72 [01:01<00:00,  1.16it/s]\n"
     ]
    },
    {
     "name": "stdout",
     "output_type": "stream",
     "text": [
      "Epoch [9/20], Validation accuracy:\n",
      "{'accuracy': 0.5539000876424189}\n",
      "Epoch [9/20], Validation f1:\n",
      "{'f1': 0.5033467514907777}\n",
      "---------------------------------------------------\n"
     ]
    },
    {
     "name": "stderr",
     "output_type": "stream",
     "text": [
      "100%|██████████| 286/286 [07:40<00:00,  1.61s/it]\n"
     ]
    },
    {
     "name": "stdout",
     "output_type": "stream",
     "text": [
      "Epoch [10/20], Training loss: 0.8219\n"
     ]
    },
    {
     "name": "stderr",
     "output_type": "stream",
     "text": [
      "100%|██████████| 72/72 [01:02<00:00,  1.16it/s]\n"
     ]
    },
    {
     "name": "stdout",
     "output_type": "stream",
     "text": [
      "Epoch [10/20], Validation accuracy:\n",
      "{'accuracy': 0.5872042068361086}\n",
      "Epoch [10/20], Validation f1:\n",
      "{'f1': 0.5873186854092091}\n",
      "---------------------------------------------------\n"
     ]
    },
    {
     "name": "stderr",
     "output_type": "stream",
     "text": [
      "100%|██████████| 286/286 [07:40<00:00,  1.61s/it]\n"
     ]
    },
    {
     "name": "stdout",
     "output_type": "stream",
     "text": [
      "Epoch [11/20], Training loss: 1.1352\n"
     ]
    },
    {
     "name": "stderr",
     "output_type": "stream",
     "text": [
      "100%|██████████| 72/72 [01:02<00:00,  1.16it/s]\n"
     ]
    },
    {
     "name": "stdout",
     "output_type": "stream",
     "text": [
      "Epoch [11/20], Validation accuracy:\n",
      "{'accuracy': 0.5731814198071867}\n",
      "Epoch [11/20], Validation f1:\n",
      "{'f1': 0.5702432627406089}\n",
      "---------------------------------------------------\n"
     ]
    },
    {
     "name": "stderr",
     "output_type": "stream",
     "text": [
      "100%|██████████| 286/286 [07:41<00:00,  1.61s/it]\n"
     ]
    },
    {
     "name": "stdout",
     "output_type": "stream",
     "text": [
      "Epoch [12/20], Training loss: 0.7783\n"
     ]
    },
    {
     "name": "stderr",
     "output_type": "stream",
     "text": [
      "100%|██████████| 72/72 [01:02<00:00,  1.16it/s]\n"
     ]
    },
    {
     "name": "stdout",
     "output_type": "stream",
     "text": [
      "Epoch [12/20], Validation accuracy:\n",
      "{'accuracy': 0.5985977212971078}\n",
      "Epoch [12/20], Validation f1:\n",
      "{'f1': 0.5842249759918502}\n",
      "---------------------------------------------------\n"
     ]
    },
    {
     "name": "stderr",
     "output_type": "stream",
     "text": [
      "100%|██████████| 286/286 [07:41<00:00,  1.61s/it]\n"
     ]
    },
    {
     "name": "stdout",
     "output_type": "stream",
     "text": [
      "Epoch [13/20], Training loss: 0.6006\n"
     ]
    },
    {
     "name": "stderr",
     "output_type": "stream",
     "text": [
      "100%|██████████| 72/72 [01:02<00:00,  1.16it/s]\n"
     ]
    },
    {
     "name": "stdout",
     "output_type": "stream",
     "text": [
      "Epoch [13/20], Validation accuracy:\n",
      "{'accuracy': 0.5731814198071867}\n",
      "Epoch [13/20], Validation f1:\n",
      "{'f1': 0.5773287083099784}\n",
      "---------------------------------------------------\n"
     ]
    },
    {
     "name": "stderr",
     "output_type": "stream",
     "text": [
      "100%|██████████| 286/286 [07:41<00:00,  1.61s/it]\n"
     ]
    },
    {
     "name": "stdout",
     "output_type": "stream",
     "text": [
      "Epoch [14/20], Training loss: 0.8872\n"
     ]
    },
    {
     "name": "stderr",
     "output_type": "stream",
     "text": [
      "100%|██████████| 72/72 [01:02<00:00,  1.16it/s]\n"
     ]
    },
    {
     "name": "stdout",
     "output_type": "stream",
     "text": [
      "Epoch [14/20], Validation accuracy:\n",
      "{'accuracy': 0.6021034180543383}\n",
      "Epoch [14/20], Validation f1:\n",
      "{'f1': 0.5791642175044013}\n",
      "---------------------------------------------------\n"
     ]
    },
    {
     "name": "stderr",
     "output_type": "stream",
     "text": [
      "100%|██████████| 286/286 [07:40<00:00,  1.61s/it]\n"
     ]
    },
    {
     "name": "stdout",
     "output_type": "stream",
     "text": [
      "Epoch [15/20], Training loss: 0.6001\n"
     ]
    },
    {
     "name": "stderr",
     "output_type": "stream",
     "text": [
      "100%|██████████| 72/72 [01:02<00:00,  1.16it/s]\n"
     ]
    },
    {
     "name": "stdout",
     "output_type": "stream",
     "text": [
      "Epoch [15/20], Validation accuracy:\n",
      "{'accuracy': 0.6240140227870289}\n",
      "Epoch [15/20], Validation f1:\n",
      "{'f1': 0.6215374083137738}\n",
      "---------------------------------------------------\n"
     ]
    },
    {
     "name": "stderr",
     "output_type": "stream",
     "text": [
      "100%|██████████| 286/286 [07:40<00:00,  1.61s/it]\n"
     ]
    },
    {
     "name": "stdout",
     "output_type": "stream",
     "text": [
      "Epoch [16/20], Training loss: 0.7653\n"
     ]
    },
    {
     "name": "stderr",
     "output_type": "stream",
     "text": [
      "100%|██████████| 72/72 [01:01<00:00,  1.16it/s]\n"
     ]
    },
    {
     "name": "stdout",
     "output_type": "stream",
     "text": [
      "Epoch [16/20], Validation accuracy:\n",
      "{'accuracy': 0.5942156003505696}\n",
      "Epoch [16/20], Validation f1:\n",
      "{'f1': 0.5703900438728997}\n",
      "---------------------------------------------------\n"
     ]
    },
    {
     "name": "stderr",
     "output_type": "stream",
     "text": [
      "100%|██████████| 286/286 [07:40<00:00,  1.61s/it]\n"
     ]
    },
    {
     "name": "stdout",
     "output_type": "stream",
     "text": [
      "Epoch [17/20], Training loss: 0.9620\n"
     ]
    },
    {
     "name": "stderr",
     "output_type": "stream",
     "text": [
      "100%|██████████| 72/72 [01:01<00:00,  1.16it/s]\n"
     ]
    },
    {
     "name": "stdout",
     "output_type": "stream",
     "text": [
      "Epoch [17/20], Validation accuracy:\n",
      "{'accuracy': 0.5985977212971078}\n",
      "Epoch [17/20], Validation f1:\n",
      "{'f1': 0.5711467758373264}\n",
      "---------------------------------------------------\n"
     ]
    },
    {
     "name": "stderr",
     "output_type": "stream",
     "text": [
      "100%|██████████| 286/286 [07:40<00:00,  1.61s/it]\n"
     ]
    },
    {
     "name": "stdout",
     "output_type": "stream",
     "text": [
      "Epoch [18/20], Training loss: 0.9203\n"
     ]
    },
    {
     "name": "stderr",
     "output_type": "stream",
     "text": [
      "100%|██████████| 72/72 [01:01<00:00,  1.17it/s]\n"
     ]
    },
    {
     "name": "stdout",
     "output_type": "stream",
     "text": [
      "Epoch [18/20], Validation accuracy:\n",
      "{'accuracy': 0.6108676599474145}\n",
      "Epoch [18/20], Validation f1:\n",
      "{'f1': 0.5840221748412091}\n",
      "---------------------------------------------------\n"
     ]
    },
    {
     "name": "stderr",
     "output_type": "stream",
     "text": [
      "100%|██████████| 286/286 [07:40<00:00,  1.61s/it]\n"
     ]
    },
    {
     "name": "stdout",
     "output_type": "stream",
     "text": [
      "Epoch [19/20], Training loss: 0.6848\n"
     ]
    },
    {
     "name": "stderr",
     "output_type": "stream",
     "text": [
      "100%|██████████| 72/72 [01:01<00:00,  1.17it/s]\n"
     ]
    },
    {
     "name": "stdout",
     "output_type": "stream",
     "text": [
      "Epoch [19/20], Validation accuracy:\n",
      "{'accuracy': 0.6310254163014899}\n",
      "Epoch [19/20], Validation f1:\n",
      "{'f1': 0.6234077922533836}\n",
      "---------------------------------------------------\n"
     ]
    },
    {
     "name": "stderr",
     "output_type": "stream",
     "text": [
      "100%|██████████| 286/286 [07:40<00:00,  1.61s/it]\n"
     ]
    },
    {
     "name": "stdout",
     "output_type": "stream",
     "text": [
      "Epoch [20/20], Training loss: 1.2303\n"
     ]
    },
    {
     "name": "stderr",
     "output_type": "stream",
     "text": [
      "100%|██████████| 72/72 [01:02<00:00,  1.16it/s]"
     ]
    },
    {
     "name": "stdout",
     "output_type": "stream",
     "text": [
      "Epoch [20/20], Validation accuracy:\n",
      "{'accuracy': 0.628396143733567}\n",
      "Epoch [20/20], Validation f1:\n",
      "{'f1': 0.6227050754597597}\n",
      "---------------------------------------------------\n"
     ]
    },
    {
     "name": "stderr",
     "output_type": "stream",
     "text": [
      "\n"
     ]
    }
   ],
   "source": [
    "accuracy_list, f1_list = training_loop(model_prompt_tuning, device, num_epochs, train_val_dataloader_combine, optimizer, lr_scheduler)"
   ]
  },
  {
   "cell_type": "code",
   "execution_count": null,
   "metadata": {
    "colab": {
     "base_uri": "https://localhost:8080/"
    },
    "id": "qghlTAgAjD9E",
    "outputId": "5995e14c-0bd0-45f9-a7ba-1d3ee6f6dfe3"
   },
   "outputs": [
    {
     "data": {
      "text/plain": [
       "[{'accuracy': 0.4119193689745837},\n",
       " {'accuracy': 0.5241016652059597},\n",
       " {'accuracy': 0.5205959684487291},\n",
       " {'accuracy': 0.5153374233128835},\n",
       " {'accuracy': 0.5241016652059597},\n",
       " {'accuracy': 0.5065731814198072},\n",
       " {'accuracy': 0.5337423312883436},\n",
       " {'accuracy': 0.5486415425065732},\n",
       " {'accuracy': 0.5539000876424189},\n",
       " {'accuracy': 0.5872042068361086},\n",
       " {'accuracy': 0.5731814198071867},\n",
       " {'accuracy': 0.5985977212971078},\n",
       " {'accuracy': 0.5731814198071867},\n",
       " {'accuracy': 0.6021034180543383},\n",
       " {'accuracy': 0.6240140227870289},\n",
       " {'accuracy': 0.5942156003505696},\n",
       " {'accuracy': 0.5985977212971078},\n",
       " {'accuracy': 0.6108676599474145},\n",
       " {'accuracy': 0.6310254163014899},\n",
       " {'accuracy': 0.628396143733567}]"
      ]
     },
     "execution_count": 35,
     "metadata": {},
     "output_type": "execute_result"
    }
   ],
   "source": [
    "accuracy_list"
   ]
  },
  {
   "cell_type": "code",
   "execution_count": null,
   "metadata": {
    "colab": {
     "base_uri": "https://localhost:8080/"
    },
    "id": "I2Zh0H00jEK_",
    "outputId": "0c8c2896-ee0c-4bef-930d-8cf2b3ff6735"
   },
   "outputs": [
    {
     "data": {
      "text/plain": [
       "[{'f1': 0.35752182090553036},\n",
       " {'f1': 0.45054305354692953},\n",
       " {'f1': 0.4245464984778701},\n",
       " {'f1': 0.3945438571740542},\n",
       " {'f1': 0.4742012518507838},\n",
       " {'f1': 0.39087945456519474},\n",
       " {'f1': 0.4561695560224007},\n",
       " {'f1': 0.4774783228406919},\n",
       " {'f1': 0.5033467514907777},\n",
       " {'f1': 0.5873186854092091},\n",
       " {'f1': 0.5702432627406089},\n",
       " {'f1': 0.5842249759918502},\n",
       " {'f1': 0.5773287083099784},\n",
       " {'f1': 0.5791642175044013},\n",
       " {'f1': 0.6215374083137738},\n",
       " {'f1': 0.5703900438728997},\n",
       " {'f1': 0.5711467758373264},\n",
       " {'f1': 0.5840221748412091},\n",
       " {'f1': 0.6234077922533836},\n",
       " {'f1': 0.6227050754597597}]"
      ]
     },
     "execution_count": 36,
     "metadata": {},
     "output_type": "execute_result"
    }
   ],
   "source": [
    "f1_list"
   ]
  },
  {
   "cell_type": "code",
   "execution_count": null,
   "metadata": {
    "colab": {
     "base_uri": "https://localhost:8080/"
    },
    "id": "hQGWrzwGjE7I",
    "outputId": "7a02ac78-87f6-418d-eb3f-f60bcce16e2a"
   },
   "outputs": [
    {
     "name": "stdout",
     "output_type": "stream",
     "text": [
      "Test accuracy:  {'accuracy': 0.6253501400560224}\n",
      "Test f1:  {'f1': 0.6212130623737788}\n"
     ]
    }
   ],
   "source": [
    "accuracy, f1, predictions_list, labels_list = evaluate_model(model_prompt_tuning, test_dataloader_combine, device)"
   ]
  },
  {
   "cell_type": "code",
   "execution_count": null,
   "metadata": {
    "colab": {
     "base_uri": "https://localhost:8080/",
     "height": 430
    },
    "id": "9yck0QMok5h-",
    "outputId": "f2ac962e-0c78-4824-d019-3d08c20cfd66"
   },
   "outputs": [
    {
     "data": {
      "image/png": "[encoded data removed]",
      "text/plain": [
       "<Figure size 640x480 with 2 Axes>"
      ]
     },
     "metadata": {},
     "output_type": "display_data"
    }
   ],
   "source": [
    "plot_confusion_matrix(labels_list, predictions_list)"
   ]
  },
  {
   "cell_type": "code",
   "execution_count": null,
   "metadata": {
    "colab": {
     "base_uri": "https://localhost:8080/"
    },
    "id": "nKJjZaDOk5fV",
    "outputId": "5b0d876b-bc6d-4aa4-c08a-3c1caf5a2e80"
   },
   "outputs": [
    {
     "name": "stderr",
     "output_type": "stream",
     "text": [
      "Some weights of RobertaForSequenceClassification were not initialized from the model checkpoint at roberta-large and are newly initialized: ['classifier.dense.bias', 'classifier.dense.weight', 'classifier.out_proj.bias', 'classifier.out_proj.weight']\n",
      "You should probably TRAIN this model on a down-stream task to be able to use it for predictions and inference.\n"
     ]
    },
    {
     "name": "stdout",
     "output_type": "stream",
     "text": [
      "Example 1\n",
      "The Committee anticipates that ongoing increases in the target range for the federal funds rate will be appropriate.\n",
      "correct answer: Hawkish\n",
      "predicted classification:  Dovish\n",
      "=====================================================\n",
      "Example 2\n",
      "In light of the softer economic outlook, we will maintain the current federal funds rate.\n",
      "correct answer: Dovish\n",
      "predicted classification:  Neutral\n",
      "=====================================================\n",
      "Example 3\n",
      "Economic activity has been rising at a strong rate.\n",
      "correct answer: Neutral\n",
      "predicted classification:  Hawkish\n",
      "=====================================================\n",
      "Example 4\n",
      "Considering the elevated inflation pressures, we may consider further rate hikes.\n",
      "correct answer: Hawkish\n",
      "predicted classification:  Neutral\n",
      "=====================================================\n",
      "Example 5\n",
      "The labor market continues to strengthen, but inflation remains below our 2 percent longer-run objective.\n",
      "correct answer: Dovish\n",
      "predicted classification:  Dovish\n",
      "=====================================================\n"
     ]
    }
   ],
   "source": [
    "# test some cases\n",
    "prompt_tuning_model_combinedata_name = 'prompt_tuning-model-combinedata'\n",
    "prompt_tuning_tokenizer_combinedata_name = 'prompt_tuning-tokenizer-combinedata'\n",
    "\n",
    "# Save model\n",
    "tokenizer.save_pretrained(prompt_tuning_tokenizer_combinedata_name)\n",
    "model_prompt_tuning.save_pretrained(prompt_tuning_model_combinedata_name)\n",
    "\n",
    "run_test_cases(prompt_tuning_model_combinedata_name, prompt_tuning_tokenizer_combinedata_name)"
   ]
  },
  {
   "cell_type": "markdown",
   "metadata": {
    "id": "qKMVTUiJlNG2"
   },
   "source": [
    "## Train and evaluate on split combine data"
   ]
  },
  {
   "cell_type": "code",
   "execution_count": null,
   "metadata": {
    "id": "L98w64VnlLGP"
   },
   "outputs": [],
   "source": [
    "train_split_combine_data_path = \"../data_PEFT/lab-manual-split-combine-train.xlsx\"\n",
    "test_split_combine_data_path = \"../data_PEFT/lab-manual-split-combine-test.xlsx\"\n",
    "\n",
    "sentences_split_combine, labels_split_combine, sentences_test_split_combine, labels_test_split_combine = load_data(train_split_combine_data_path,\n",
    "                                                                                                                   test_split_combine_data_path)"
   ]
  },
  {
   "cell_type": "code",
   "execution_count": null,
   "metadata": {
    "colab": {
     "base_uri": "https://localhost:8080/"
    },
    "id": "-ghkeSlvlLDp",
    "outputId": "9754238f-4644-481a-9fc0-5add03ab7705"
   },
   "outputs": [
    {
     "name": "stderr",
     "output_type": "stream",
     "text": [
      "Some weights of RobertaForSequenceClassification were not initialized from the model checkpoint at roberta-large and are newly initialized: ['classifier.dense.bias', 'classifier.dense.weight', 'classifier.out_proj.bias', 'classifier.out_proj.weight']\n",
      "You should probably TRAIN this model on a down-stream task to be able to use it for predictions and inference.\n"
     ]
    },
    {
     "name": "stdout",
     "output_type": "stream",
     "text": [
      "Train Size: 4762, Validation Size: 1190\n"
     ]
    },
    {
     "name": "stderr",
     "output_type": "stream",
     "text": [
      "Some weights of RobertaForSequenceClassification were not initialized from the model checkpoint at roberta-large and are newly initialized: ['classifier.dense.bias', 'classifier.dense.weight', 'classifier.out_proj.bias', 'classifier.out_proj.weight']\n",
      "You should probably TRAIN this model on a down-stream task to be able to use it for predictions and inference.\n"
     ]
    },
    {
     "name": "stdout",
     "output_type": "stream",
     "text": [
      "Test Size: 1488\n"
     ]
    }
   ],
   "source": [
    "language_model_to_use = 'roberta-large'\n",
    "batch_size = 16\n",
    "\n",
    "train_val_dataloader_split_combine = prepare_dataloader(language_model_to_use,\n",
    "                                                        sentences_split_combine,\n",
    "                                                        labels_split_combine,\n",
    "                                                        batch_size,\n",
    "                                                        device,\n",
    "                                                        return_train_dataloader=True)\n",
    "test_dataloader_split_combine = prepare_dataloader(language_model_to_use,\n",
    "                                                   sentences_test_split_combine,\n",
    "                                                   labels_test_split_combine,\n",
    "                                                   batch_size,\n",
    "                                                   device,\n",
    "                                                   return_train_dataloader=False)"
   ]
  },
  {
   "cell_type": "code",
   "execution_count": null,
   "metadata": {
    "colab": {
     "base_uri": "https://localhost:8080/"
    },
    "id": "ppRLsZuxlLBa",
    "outputId": "63581ce6-f35f-4da9-bf17-fb351d2bcb40"
   },
   "outputs": [
    {
     "name": "stderr",
     "output_type": "stream",
     "text": [
      "Some weights of RobertaForSequenceClassification were not initialized from the model checkpoint at roberta-large and are newly initialized: ['classifier.dense.bias', 'classifier.dense.weight', 'classifier.out_proj.bias', 'classifier.out_proj.weight']\n",
      "You should probably TRAIN this model on a down-stream task to be able to use it for predictions and inference.\n"
     ]
    },
    {
     "name": "stdout",
     "output_type": "stream",
     "text": [
      "trainable params: 1,062,915 || all params: 356,425,734 || trainable%: 0.2982149992570402\n"
     ]
    }
   ],
   "source": [
    "peft_config = PromptTuningConfig(task_type=\"SEQ_CLS\", peft_type=\"PROMPT_TUNING\", num_virtual_tokens=10)\n",
    "\n",
    "tokenizer, model = load_tokenizer_model(language_model_to_use, device)\n",
    "model_prompt_tuning = get_peft_model(model, peft_config)\n",
    "model_prompt_tuning.print_trainable_parameters()\n",
    "# model_prompt_tuning\n",
    "# trainable params: 1,062,915 || all params: 356,425,734 || trainable%: 0.2982149992570402"
   ]
  },
  {
   "cell_type": "code",
   "execution_count": null,
   "metadata": {
    "id": "bQtWKVLylYMF"
   },
   "outputs": [],
   "source": [
    "optimizer = AdamW(params=model.parameters(), lr=1e-3)\n",
    "num_epochs = 20\n",
    "num_training_steps = len(train_val_dataloader_split_combine['train']) * num_epochs\n",
    "\n",
    "# Instantiate scheduler\n",
    "lr_scheduler = get_linear_schedule_with_warmup(\n",
    "    optimizer=optimizer,\n",
    "    num_warmup_steps=0.06 * (len(train_val_dataloader_split_combine['train']) * num_epochs),\n",
    "    num_training_steps=num_training_steps,\n",
    ")"
   ]
  },
  {
   "cell_type": "code",
   "execution_count": null,
   "metadata": {
    "colab": {
     "base_uri": "https://localhost:8080/"
    },
    "id": "HXXm8TNjlYJy",
    "outputId": "422613f6-f063-496a-8c7a-3e6b5209d62f"
   },
   "outputs": [
    {
     "name": "stderr",
     "output_type": "stream",
     "text": [
      "100%|██████████| 298/298 [08:12<00:00,  1.65s/it]\n"
     ]
    },
    {
     "name": "stdout",
     "output_type": "stream",
     "text": [
      "Epoch [1/20], Training loss: 1.3209\n"
     ]
    },
    {
     "name": "stderr",
     "output_type": "stream",
     "text": [
      "100%|██████████| 75/75 [01:04<00:00,  1.16it/s]\n"
     ]
    },
    {
     "name": "stdout",
     "output_type": "stream",
     "text": [
      "Epoch [1/20], Validation accuracy:\n",
      "{'accuracy': 0.492436974789916}\n",
      "Epoch [1/20], Validation f1:\n",
      "{'f1': 0.3441505741217267}\n",
      "---------------------------------------------------\n"
     ]
    },
    {
     "name": "stderr",
     "output_type": "stream",
     "text": [
      "100%|██████████| 298/298 [08:00<00:00,  1.61s/it]\n"
     ]
    },
    {
     "name": "stdout",
     "output_type": "stream",
     "text": [
      "Epoch [2/20], Training loss: 1.0221\n"
     ]
    },
    {
     "name": "stderr",
     "output_type": "stream",
     "text": [
      "100%|██████████| 75/75 [01:04<00:00,  1.16it/s]\n"
     ]
    },
    {
     "name": "stdout",
     "output_type": "stream",
     "text": [
      "Epoch [2/20], Validation accuracy:\n",
      "{'accuracy': 0.5058823529411764}\n",
      "Epoch [2/20], Validation f1:\n",
      "{'f1': 0.3871405637638599}\n",
      "---------------------------------------------------\n"
     ]
    },
    {
     "name": "stderr",
     "output_type": "stream",
     "text": [
      "100%|██████████| 298/298 [07:59<00:00,  1.61s/it]\n"
     ]
    },
    {
     "name": "stdout",
     "output_type": "stream",
     "text": [
      "Epoch [3/20], Training loss: 1.1551\n"
     ]
    },
    {
     "name": "stderr",
     "output_type": "stream",
     "text": [
      "100%|██████████| 75/75 [01:04<00:00,  1.16it/s]\n"
     ]
    },
    {
     "name": "stdout",
     "output_type": "stream",
     "text": [
      "Epoch [3/20], Validation accuracy:\n",
      "{'accuracy': 0.515126050420168}\n",
      "Epoch [3/20], Validation f1:\n",
      "{'f1': 0.4468849849420522}\n",
      "---------------------------------------------------\n"
     ]
    },
    {
     "name": "stderr",
     "output_type": "stream",
     "text": [
      "100%|██████████| 298/298 [07:59<00:00,  1.61s/it]\n"
     ]
    },
    {
     "name": "stdout",
     "output_type": "stream",
     "text": [
      "Epoch [4/20], Training loss: 0.8907\n"
     ]
    },
    {
     "name": "stderr",
     "output_type": "stream",
     "text": [
      "100%|██████████| 75/75 [01:04<00:00,  1.16it/s]\n"
     ]
    },
    {
     "name": "stdout",
     "output_type": "stream",
     "text": [
      "Epoch [4/20], Validation accuracy:\n",
      "{'accuracy': 0.5243697478991597}\n",
      "Epoch [4/20], Validation f1:\n",
      "{'f1': 0.5016500867189816}\n",
      "---------------------------------------------------\n"
     ]
    },
    {
     "name": "stderr",
     "output_type": "stream",
     "text": [
      "100%|██████████| 298/298 [08:00<00:00,  1.61s/it]\n"
     ]
    },
    {
     "name": "stdout",
     "output_type": "stream",
     "text": [
      "Epoch [5/20], Training loss: 0.8820\n"
     ]
    },
    {
     "name": "stderr",
     "output_type": "stream",
     "text": [
      "100%|██████████| 75/75 [01:04<00:00,  1.16it/s]\n"
     ]
    },
    {
     "name": "stdout",
     "output_type": "stream",
     "text": [
      "Epoch [5/20], Validation accuracy:\n",
      "{'accuracy': 0.5361344537815126}\n",
      "Epoch [5/20], Validation f1:\n",
      "{'f1': 0.5321560817869345}\n",
      "---------------------------------------------------\n"
     ]
    },
    {
     "name": "stderr",
     "output_type": "stream",
     "text": [
      "100%|██████████| 298/298 [08:00<00:00,  1.61s/it]\n"
     ]
    },
    {
     "name": "stdout",
     "output_type": "stream",
     "text": [
      "Epoch [6/20], Training loss: 0.9496\n"
     ]
    },
    {
     "name": "stderr",
     "output_type": "stream",
     "text": [
      "100%|██████████| 75/75 [01:04<00:00,  1.16it/s]\n"
     ]
    },
    {
     "name": "stdout",
     "output_type": "stream",
     "text": [
      "Epoch [6/20], Validation accuracy:\n",
      "{'accuracy': 0.5352941176470588}\n",
      "Epoch [6/20], Validation f1:\n",
      "{'f1': 0.44876495603285804}\n",
      "---------------------------------------------------\n"
     ]
    },
    {
     "name": "stderr",
     "output_type": "stream",
     "text": [
      "100%|██████████| 298/298 [07:59<00:00,  1.61s/it]\n"
     ]
    },
    {
     "name": "stdout",
     "output_type": "stream",
     "text": [
      "Epoch [7/20], Training loss: 0.5626\n"
     ]
    },
    {
     "name": "stderr",
     "output_type": "stream",
     "text": [
      "100%|██████████| 75/75 [01:04<00:00,  1.16it/s]\n"
     ]
    },
    {
     "name": "stdout",
     "output_type": "stream",
     "text": [
      "Epoch [7/20], Validation accuracy:\n",
      "{'accuracy': 0.5243697478991597}\n",
      "Epoch [7/20], Validation f1:\n",
      "{'f1': 0.445158763038168}\n",
      "---------------------------------------------------\n"
     ]
    },
    {
     "name": "stderr",
     "output_type": "stream",
     "text": [
      "100%|██████████| 298/298 [08:00<00:00,  1.61s/it]\n"
     ]
    },
    {
     "name": "stdout",
     "output_type": "stream",
     "text": [
      "Epoch [8/20], Training loss: 0.8615\n"
     ]
    },
    {
     "name": "stderr",
     "output_type": "stream",
     "text": [
      "100%|██████████| 75/75 [01:04<00:00,  1.16it/s]\n"
     ]
    },
    {
     "name": "stdout",
     "output_type": "stream",
     "text": [
      "Epoch [8/20], Validation accuracy:\n",
      "{'accuracy': 0.5512605042016807}\n",
      "Epoch [8/20], Validation f1:\n",
      "{'f1': 0.47622959448074104}\n",
      "---------------------------------------------------\n"
     ]
    },
    {
     "name": "stderr",
     "output_type": "stream",
     "text": [
      "100%|██████████| 298/298 [08:00<00:00,  1.61s/it]\n"
     ]
    },
    {
     "name": "stdout",
     "output_type": "stream",
     "text": [
      "Epoch [9/20], Training loss: 0.8013\n"
     ]
    },
    {
     "name": "stderr",
     "output_type": "stream",
     "text": [
      "100%|██████████| 75/75 [01:04<00:00,  1.16it/s]\n"
     ]
    },
    {
     "name": "stdout",
     "output_type": "stream",
     "text": [
      "Epoch [9/20], Validation accuracy:\n",
      "{'accuracy': 0.5722689075630252}\n",
      "Epoch [9/20], Validation f1:\n",
      "{'f1': 0.5449738274337448}\n",
      "---------------------------------------------------\n"
     ]
    },
    {
     "name": "stderr",
     "output_type": "stream",
     "text": [
      "100%|██████████| 298/298 [07:59<00:00,  1.61s/it]\n"
     ]
    },
    {
     "name": "stdout",
     "output_type": "stream",
     "text": [
      "Epoch [10/20], Training loss: 0.9266\n"
     ]
    },
    {
     "name": "stderr",
     "output_type": "stream",
     "text": [
      "100%|██████████| 75/75 [01:04<00:00,  1.16it/s]\n"
     ]
    },
    {
     "name": "stdout",
     "output_type": "stream",
     "text": [
      "Epoch [10/20], Validation accuracy:\n",
      "{'accuracy': 0.5747899159663865}\n",
      "Epoch [10/20], Validation f1:\n",
      "{'f1': 0.5575842671230803}\n",
      "---------------------------------------------------\n"
     ]
    },
    {
     "name": "stderr",
     "output_type": "stream",
     "text": [
      "100%|██████████| 298/298 [08:00<00:00,  1.61s/it]\n"
     ]
    },
    {
     "name": "stdout",
     "output_type": "stream",
     "text": [
      "Epoch [11/20], Training loss: 0.7723\n"
     ]
    },
    {
     "name": "stderr",
     "output_type": "stream",
     "text": [
      "100%|██████████| 75/75 [01:04<00:00,  1.16it/s]\n"
     ]
    },
    {
     "name": "stdout",
     "output_type": "stream",
     "text": [
      "Epoch [11/20], Validation accuracy:\n",
      "{'accuracy': 0.5436974789915966}\n",
      "Epoch [11/20], Validation f1:\n",
      "{'f1': 0.528970843501775}\n",
      "---------------------------------------------------\n"
     ]
    },
    {
     "name": "stderr",
     "output_type": "stream",
     "text": [
      "100%|██████████| 298/298 [07:59<00:00,  1.61s/it]\n"
     ]
    },
    {
     "name": "stdout",
     "output_type": "stream",
     "text": [
      "Epoch [12/20], Training loss: 0.8189\n"
     ]
    },
    {
     "name": "stderr",
     "output_type": "stream",
     "text": [
      "100%|██████████| 75/75 [01:04<00:00,  1.16it/s]\n"
     ]
    },
    {
     "name": "stdout",
     "output_type": "stream",
     "text": [
      "Epoch [12/20], Validation accuracy:\n",
      "{'accuracy': 0.5386554621848739}\n",
      "Epoch [12/20], Validation f1:\n",
      "{'f1': 0.5425387939094637}\n",
      "---------------------------------------------------\n"
     ]
    },
    {
     "name": "stderr",
     "output_type": "stream",
     "text": [
      "100%|██████████| 298/298 [07:59<00:00,  1.61s/it]\n"
     ]
    },
    {
     "name": "stdout",
     "output_type": "stream",
     "text": [
      "Epoch [13/20], Training loss: 0.6461\n"
     ]
    },
    {
     "name": "stderr",
     "output_type": "stream",
     "text": [
      "100%|██████████| 75/75 [01:04<00:00,  1.16it/s]\n"
     ]
    },
    {
     "name": "stdout",
     "output_type": "stream",
     "text": [
      "Epoch [13/20], Validation accuracy:\n",
      "{'accuracy': 0.5369747899159664}\n",
      "Epoch [13/20], Validation f1:\n",
      "{'f1': 0.5047132109245376}\n",
      "---------------------------------------------------\n"
     ]
    },
    {
     "name": "stderr",
     "output_type": "stream",
     "text": [
      "100%|██████████| 298/298 [07:59<00:00,  1.61s/it]\n"
     ]
    },
    {
     "name": "stdout",
     "output_type": "stream",
     "text": [
      "Epoch [14/20], Training loss: 0.7322\n"
     ]
    },
    {
     "name": "stderr",
     "output_type": "stream",
     "text": [
      "100%|██████████| 75/75 [01:04<00:00,  1.16it/s]\n"
     ]
    },
    {
     "name": "stdout",
     "output_type": "stream",
     "text": [
      "Epoch [14/20], Validation accuracy:\n",
      "{'accuracy': 0.5991596638655462}\n",
      "Epoch [14/20], Validation f1:\n",
      "{'f1': 0.5807303984346819}\n",
      "---------------------------------------------------\n"
     ]
    },
    {
     "name": "stderr",
     "output_type": "stream",
     "text": [
      "100%|██████████| 298/298 [07:59<00:00,  1.61s/it]\n"
     ]
    },
    {
     "name": "stdout",
     "output_type": "stream",
     "text": [
      "Epoch [15/20], Training loss: 0.6899\n"
     ]
    },
    {
     "name": "stderr",
     "output_type": "stream",
     "text": [
      "100%|██████████| 75/75 [01:04<00:00,  1.16it/s]\n"
     ]
    },
    {
     "name": "stdout",
     "output_type": "stream",
     "text": [
      "Epoch [15/20], Validation accuracy:\n",
      "{'accuracy': 0.6058823529411764}\n",
      "Epoch [15/20], Validation f1:\n",
      "{'f1': 0.572440898464852}\n",
      "---------------------------------------------------\n"
     ]
    },
    {
     "name": "stderr",
     "output_type": "stream",
     "text": [
      "100%|██████████| 298/298 [07:59<00:00,  1.61s/it]\n"
     ]
    },
    {
     "name": "stdout",
     "output_type": "stream",
     "text": [
      "Epoch [16/20], Training loss: 0.5776\n"
     ]
    },
    {
     "name": "stderr",
     "output_type": "stream",
     "text": [
      "100%|██████████| 75/75 [01:04<00:00,  1.16it/s]\n"
     ]
    },
    {
     "name": "stdout",
     "output_type": "stream",
     "text": [
      "Epoch [16/20], Validation accuracy:\n",
      "{'accuracy': 0.611764705882353}\n",
      "Epoch [16/20], Validation f1:\n",
      "{'f1': 0.5987388970301465}\n",
      "---------------------------------------------------\n"
     ]
    },
    {
     "name": "stderr",
     "output_type": "stream",
     "text": [
      "100%|██████████| 298/298 [07:59<00:00,  1.61s/it]\n"
     ]
    },
    {
     "name": "stdout",
     "output_type": "stream",
     "text": [
      "Epoch [17/20], Training loss: 0.7560\n"
     ]
    },
    {
     "name": "stderr",
     "output_type": "stream",
     "text": [
      "100%|██████████| 75/75 [01:04<00:00,  1.16it/s]\n"
     ]
    },
    {
     "name": "stdout",
     "output_type": "stream",
     "text": [
      "Epoch [17/20], Validation accuracy:\n",
      "{'accuracy': 0.6218487394957983}\n",
      "Epoch [17/20], Validation f1:\n",
      "{'f1': 0.6033428852184736}\n",
      "---------------------------------------------------\n"
     ]
    },
    {
     "name": "stderr",
     "output_type": "stream",
     "text": [
      "100%|██████████| 298/298 [08:00<00:00,  1.61s/it]\n"
     ]
    },
    {
     "name": "stdout",
     "output_type": "stream",
     "text": [
      "Epoch [18/20], Training loss: 0.8486\n"
     ]
    },
    {
     "name": "stderr",
     "output_type": "stream",
     "text": [
      "100%|██████████| 75/75 [01:04<00:00,  1.16it/s]\n"
     ]
    },
    {
     "name": "stdout",
     "output_type": "stream",
     "text": [
      "Epoch [18/20], Validation accuracy:\n",
      "{'accuracy': 0.619327731092437}\n",
      "Epoch [18/20], Validation f1:\n",
      "{'f1': 0.6094119847929467}\n",
      "---------------------------------------------------\n"
     ]
    },
    {
     "name": "stderr",
     "output_type": "stream",
     "text": [
      "100%|██████████| 298/298 [07:59<00:00,  1.61s/it]\n"
     ]
    },
    {
     "name": "stdout",
     "output_type": "stream",
     "text": [
      "Epoch [19/20], Training loss: 0.7179\n"
     ]
    },
    {
     "name": "stderr",
     "output_type": "stream",
     "text": [
      "100%|██████████| 75/75 [01:04<00:00,  1.16it/s]\n"
     ]
    },
    {
     "name": "stdout",
     "output_type": "stream",
     "text": [
      "Epoch [19/20], Validation accuracy:\n",
      "{'accuracy': 0.6302521008403361}\n",
      "Epoch [19/20], Validation f1:\n",
      "{'f1': 0.6226958256858521}\n",
      "---------------------------------------------------\n"
     ]
    },
    {
     "name": "stderr",
     "output_type": "stream",
     "text": [
      "100%|██████████| 298/298 [07:59<00:00,  1.61s/it]\n"
     ]
    },
    {
     "name": "stdout",
     "output_type": "stream",
     "text": [
      "Epoch [20/20], Training loss: 0.7383\n"
     ]
    },
    {
     "name": "stderr",
     "output_type": "stream",
     "text": [
      "100%|██████████| 75/75 [01:04<00:00,  1.16it/s]"
     ]
    },
    {
     "name": "stdout",
     "output_type": "stream",
     "text": [
      "Epoch [20/20], Validation accuracy:\n",
      "{'accuracy': 0.6302521008403361}\n",
      "Epoch [20/20], Validation f1:\n",
      "{'f1': 0.6214184712335341}\n",
      "---------------------------------------------------\n"
     ]
    },
    {
     "name": "stderr",
     "output_type": "stream",
     "text": [
      "\n"
     ]
    }
   ],
   "source": [
    "accuracy_list_splitdata, f1_list_splitdata = training_loop(model_prompt_tuning,\n",
    "                                                           device,\n",
    "                                                           num_epochs,\n",
    "                                                           train_val_dataloader_split_combine,\n",
    "                                                           optimizer,\n",
    "                                                           lr_scheduler)"
   ]
  },
  {
   "cell_type": "code",
   "execution_count": null,
   "metadata": {
    "colab": {
     "base_uri": "https://localhost:8080/"
    },
    "id": "EDm0FdHklYHj",
    "outputId": "dc08af85-c5d2-4ba5-986f-9a3a17b9a627"
   },
   "outputs": [
    {
     "data": {
      "text/plain": [
       "[{'accuracy': 0.492436974789916},\n",
       " {'accuracy': 0.5058823529411764},\n",
       " {'accuracy': 0.515126050420168},\n",
       " {'accuracy': 0.5243697478991597},\n",
       " {'accuracy': 0.5361344537815126},\n",
       " {'accuracy': 0.5352941176470588},\n",
       " {'accuracy': 0.5243697478991597},\n",
       " {'accuracy': 0.5512605042016807},\n",
       " {'accuracy': 0.5722689075630252},\n",
       " {'accuracy': 0.5747899159663865},\n",
       " {'accuracy': 0.5436974789915966},\n",
       " {'accuracy': 0.5386554621848739},\n",
       " {'accuracy': 0.5369747899159664},\n",
       " {'accuracy': 0.5991596638655462},\n",
       " {'accuracy': 0.6058823529411764},\n",
       " {'accuracy': 0.611764705882353},\n",
       " {'accuracy': 0.6218487394957983},\n",
       " {'accuracy': 0.619327731092437},\n",
       " {'accuracy': 0.6302521008403361},\n",
       " {'accuracy': 0.6302521008403361}]"
      ]
     },
     "execution_count": 45,
     "metadata": {},
     "output_type": "execute_result"
    }
   ],
   "source": [
    "accuracy_list_splitdata"
   ]
  },
  {
   "cell_type": "code",
   "execution_count": null,
   "metadata": {
    "colab": {
     "base_uri": "https://localhost:8080/"
    },
    "id": "Lc4HH_8hmU-X",
    "outputId": "d081f538-989e-4c26-fa47-d38f8fba6439"
   },
   "outputs": [
    {
     "data": {
      "text/plain": [
       "[{'f1': 0.3441505741217267},\n",
       " {'f1': 0.3871405637638599},\n",
       " {'f1': 0.4468849849420522},\n",
       " {'f1': 0.5016500867189816},\n",
       " {'f1': 0.5321560817869345},\n",
       " {'f1': 0.44876495603285804},\n",
       " {'f1': 0.445158763038168},\n",
       " {'f1': 0.47622959448074104},\n",
       " {'f1': 0.5449738274337448},\n",
       " {'f1': 0.5575842671230803},\n",
       " {'f1': 0.528970843501775},\n",
       " {'f1': 0.5425387939094637},\n",
       " {'f1': 0.5047132109245376},\n",
       " {'f1': 0.5807303984346819},\n",
       " {'f1': 0.572440898464852},\n",
       " {'f1': 0.5987388970301465},\n",
       " {'f1': 0.6033428852184736},\n",
       " {'f1': 0.6094119847929467},\n",
       " {'f1': 0.6226958256858521},\n",
       " {'f1': 0.6214184712335341}]"
      ]
     },
     "execution_count": 46,
     "metadata": {},
     "output_type": "execute_result"
    }
   ],
   "source": [
    "f1_list_splitdata"
   ]
  },
  {
   "cell_type": "code",
   "execution_count": null,
   "metadata": {
    "colab": {
     "base_uri": "https://localhost:8080/"
    },
    "id": "hQ-2jrMFmU8F",
    "outputId": "56984951-da95-49f5-8d01-e3cb12b14d4f"
   },
   "outputs": [
    {
     "name": "stdout",
     "output_type": "stream",
     "text": [
      "Test accuracy:  {'accuracy': 0.614247311827957}\n",
      "Test f1:  {'f1': 0.6100082593112046}\n"
     ]
    }
   ],
   "source": [
    "accuracy_splitdata, f1_splitdata, predictions_list_splitdata, labels_list_splitdata = evaluate_model(model_prompt_tuning,\n",
    "                                                                                                     test_dataloader_split_combine,\n",
    "                                                                                                     device)"
   ]
  },
  {
   "cell_type": "code",
   "execution_count": null,
   "metadata": {
    "colab": {
     "base_uri": "https://localhost:8080/",
     "height": 430
    },
    "id": "vPGwg_gAmU51",
    "outputId": "ac82635c-c210-41b5-f95a-4143c19217dd"
   },
   "outputs": [
    {
     "data": {
      "image/png": "[encoded data removed]",
      "text/plain": [
       "<Figure size 640x480 with 2 Axes>"
      ]
     },
     "metadata": {},
     "output_type": "display_data"
    }
   ],
   "source": [
    "plot_confusion_matrix(labels_list_splitdata, predictions_list_splitdata)"
   ]
  },
  {
   "cell_type": "code",
   "execution_count": null,
   "metadata": {
    "colab": {
     "base_uri": "https://localhost:8080/"
    },
    "id": "yf6nMBdImZ5Y",
    "outputId": "8fe9f284-851d-4376-9bd3-0fcf740d7bfd"
   },
   "outputs": [
    {
     "name": "stderr",
     "output_type": "stream",
     "text": [
      "Some weights of RobertaForSequenceClassification were not initialized from the model checkpoint at roberta-large and are newly initialized: ['classifier.dense.bias', 'classifier.dense.weight', 'classifier.out_proj.bias', 'classifier.out_proj.weight']\n",
      "You should probably TRAIN this model on a down-stream task to be able to use it for predictions and inference.\n"
     ]
    },
    {
     "name": "stdout",
     "output_type": "stream",
     "text": [
      "Example 1\n",
      "The Committee anticipates that ongoing increases in the target range for the federal funds rate will be appropriate.\n",
      "correct answer: Hawkish\n",
      "predicted classification:  Neutral\n",
      "=====================================================\n",
      "Example 2\n",
      "In light of the softer economic outlook, we will maintain the current federal funds rate.\n",
      "correct answer: Dovish\n",
      "predicted classification:  Neutral\n",
      "=====================================================\n",
      "Example 3\n",
      "Economic activity has been rising at a strong rate.\n",
      "correct answer: Neutral\n",
      "predicted classification:  Hawkish\n",
      "=====================================================\n",
      "Example 4\n",
      "Considering the elevated inflation pressures, we may consider further rate hikes.\n",
      "correct answer: Hawkish\n",
      "predicted classification:  Neutral\n",
      "=====================================================\n",
      "Example 5\n",
      "The labor market continues to strengthen, but inflation remains below our 2 percent longer-run objective.\n",
      "correct answer: Dovish\n",
      "predicted classification:  Hawkish\n",
      "=====================================================\n"
     ]
    }
   ],
   "source": [
    "# test some cases\n",
    "prompt_tuning_model_splitdata_name = 'prompt_tuning-model-splitdata'\n",
    "prompt_tuning_tokenizer_splitdata_name = 'prompt_tuning-tokenizer-splitdata'\n",
    "\n",
    "# Save model\n",
    "tokenizer.save_pretrained(prompt_tuning_tokenizer_splitdata_name)\n",
    "model_prompt_tuning.save_pretrained(prompt_tuning_model_splitdata_name)\n",
    "\n",
    "run_test_cases(prompt_tuning_model_splitdata_name, prompt_tuning_tokenizer_splitdata_name)"
   ]
  },
  {
   "cell_type": "code",
   "execution_count": null,
   "metadata": {
    "id": "354HquVNmin9"
   },
   "outputs": [],
   "source": []
  },
  {
   "cell_type": "code",
   "execution_count": null,
   "metadata": {
    "id": "1dTh3RUrmikF"
   },
   "outputs": [],
   "source": []
  },
  {
   "cell_type": "code",
   "execution_count": null,
   "metadata": {
    "id": "HAxSMJ9ymihw"
   },
   "outputs": [],
   "source": []
  },
  {
   "cell_type": "code",
   "execution_count": null,
   "metadata": {
    "id": "LetGGX2emifP"
   },
   "outputs": [],
   "source": []
  }
 ],
 "metadata": {
  "accelerator": "GPU",
  "colab": {
   "gpuType": "T4",
   "machine_shape": "hm",
   "provenance": []
  },
  "kernelspec": {
   "display_name": "Python 3 (ipykernel)",
   "language": "python",
   "name": "python3"
  },
  "language_info": {
   "codemirror_mode": {
    "name": "ipython",
    "version": 3
   },
   "file_extension": ".py",
   "mimetype": "text/x-python",
   "name": "python",
   "nbconvert_exporter": "python",
   "pygments_lexer": "ipython3",
   "version": "3.7.11"
  },
  "widgets": {
   "application/vnd.jupyter.widget-state+json": {
    "08e4161daa87440aad514df9d2452d67": {
     "model_module": "@jupyter-widgets/controls",
     "model_module_version": "1.5.0",
     "model_name": "HTMLModel",
     "state": {
      "_dom_classes": [],
      "_model_module": "@jupyter-widgets/controls",
      "_model_module_version": "1.5.0",
      "_model_name": "HTMLModel",
      "_view_count": null,
      "_view_module": "@jupyter-widgets/controls",
      "_view_module_version": "1.5.0",
      "_view_name": "HTMLView",
      "description": "",
      "description_tooltip": null,
      "layout": "IPY_MODEL_3c7ad9fa53ea447f9c271d7535bc25f1",
      "placeholder": "​",
      "style": "IPY_MODEL_3f385c0240a0453d97e5eecf2898503e",
      "value": "Downloading builder script: 100%"
     }
    },
    "1c397eb1846044c89999bee36372e61b": {
     "model_module": "@jupyter-widgets/base",
     "model_module_version": "1.2.0",
     "model_name": "LayoutModel",
     "state": {
      "_model_module": "@jupyter-widgets/base",
      "_model_module_version": "1.2.0",
      "_model_name": "LayoutModel",
      "_view_count": null,
      "_view_module": "@jupyter-widgets/base",
      "_view_module_version": "1.2.0",
      "_view_name": "LayoutView",
      "align_content": null,
      "align_items": null,
      "align_self": null,
      "border": null,
      "bottom": null,
      "display": null,
      "flex": null,
      "flex_flow": null,
      "grid_area": null,
      "grid_auto_columns": null,
      "grid_auto_flow": null,
      "grid_auto_rows": null,
      "grid_column": null,
      "grid_gap": null,
      "grid_row": null,
      "grid_template_areas": null,
      "grid_template_columns": null,
      "grid_template_rows": null,
      "height": null,
      "justify_content": null,
      "justify_items": null,
      "left": null,
      "margin": null,
      "max_height": null,
      "max_width": null,
      "min_height": null,
      "min_width": null,
      "object_fit": null,
      "object_position": null,
      "order": null,
      "overflow": null,
      "overflow_x": null,
      "overflow_y": null,
      "padding": null,
      "right": null,
      "top": null,
      "visibility": null,
      "width": null
     }
    },
    "1d47bd49e0f34add970de6cc7d2e215c": {
     "model_module": "@jupyter-widgets/base",
     "model_module_version": "1.2.0",
     "model_name": "LayoutModel",
     "state": {
      "_model_module": "@jupyter-widgets/base",
      "_model_module_version": "1.2.0",
      "_model_name": "LayoutModel",
      "_view_count": null,
      "_view_module": "@jupyter-widgets/base",
      "_view_module_version": "1.2.0",
      "_view_name": "LayoutView",
      "align_content": null,
      "align_items": null,
      "align_self": null,
      "border": null,
      "bottom": null,
      "display": null,
      "flex": null,
      "flex_flow": null,
      "grid_area": null,
      "grid_auto_columns": null,
      "grid_auto_flow": null,
      "grid_auto_rows": null,
      "grid_column": null,
      "grid_gap": null,
      "grid_row": null,
      "grid_template_areas": null,
      "grid_template_columns": null,
      "grid_template_rows": null,
      "height": null,
      "justify_content": null,
      "justify_items": null,
      "left": null,
      "margin": null,
      "max_height": null,
      "max_width": null,
      "min_height": null,
      "min_width": null,
      "object_fit": null,
      "object_position": null,
      "order": null,
      "overflow": null,
      "overflow_x": null,
      "overflow_y": null,
      "padding": null,
      "right": null,
      "top": null,
      "visibility": null,
      "width": null
     }
    },
    "310fe1759a5a48229e0eb371d6887965": {
     "model_module": "@jupyter-widgets/controls",
     "model_module_version": "1.5.0",
     "model_name": "FloatProgressModel",
     "state": {
      "_dom_classes": [],
      "_model_module": "@jupyter-widgets/controls",
      "_model_module_version": "1.5.0",
      "_model_name": "FloatProgressModel",
      "_view_count": null,
      "_view_module": "@jupyter-widgets/controls",
      "_view_module_version": "1.5.0",
      "_view_name": "ProgressView",
      "bar_style": "success",
      "description": "",
      "description_tooltip": null,
      "layout": "IPY_MODEL_33ed17200b0a4f2b9024391fb3653637",
      "max": 6771,
      "min": 0,
      "orientation": "horizontal",
      "style": "IPY_MODEL_9a706e55f7ae4ae082cc6ddebf83c6d2",
      "value": 6771
     }
    },
    "33ed17200b0a4f2b9024391fb3653637": {
     "model_module": "@jupyter-widgets/base",
     "model_module_version": "1.2.0",
     "model_name": "LayoutModel",
     "state": {
      "_model_module": "@jupyter-widgets/base",
      "_model_module_version": "1.2.0",
      "_model_name": "LayoutModel",
      "_view_count": null,
      "_view_module": "@jupyter-widgets/base",
      "_view_module_version": "1.2.0",
      "_view_name": "LayoutView",
      "align_content": null,
      "align_items": null,
      "align_self": null,
      "border": null,
      "bottom": null,
      "display": null,
      "flex": null,
      "flex_flow": null,
      "grid_area": null,
      "grid_auto_columns": null,
      "grid_auto_flow": null,
      "grid_auto_rows": null,
      "grid_column": null,
      "grid_gap": null,
      "grid_row": null,
      "grid_template_areas": null,
      "grid_template_columns": null,
      "grid_template_rows": null,
      "height": null,
      "justify_content": null,
      "justify_items": null,
      "left": null,
      "margin": null,
      "max_height": null,
      "max_width": null,
      "min_height": null,
      "min_width": null,
      "object_fit": null,
      "object_position": null,
      "order": null,
      "overflow": null,
      "overflow_x": null,
      "overflow_y": null,
      "padding": null,
      "right": null,
      "top": null,
      "visibility": null,
      "width": null
     }
    },
    "3c7ad9fa53ea447f9c271d7535bc25f1": {
     "model_module": "@jupyter-widgets/base",
     "model_module_version": "1.2.0",
     "model_name": "LayoutModel",
     "state": {
      "_model_module": "@jupyter-widgets/base",
      "_model_module_version": "1.2.0",
      "_model_name": "LayoutModel",
      "_view_count": null,
      "_view_module": "@jupyter-widgets/base",
      "_view_module_version": "1.2.0",
      "_view_name": "LayoutView",
      "align_content": null,
      "align_items": null,
      "align_self": null,
      "border": null,
      "bottom": null,
      "display": null,
      "flex": null,
      "flex_flow": null,
      "grid_area": null,
      "grid_auto_columns": null,
      "grid_auto_flow": null,
      "grid_auto_rows": null,
      "grid_column": null,
      "grid_gap": null,
      "grid_row": null,
      "grid_template_areas": null,
      "grid_template_columns": null,
      "grid_template_rows": null,
      "height": null,
      "justify_content": null,
      "justify_items": null,
      "left": null,
      "margin": null,
      "max_height": null,
      "max_width": null,
      "min_height": null,
      "min_width": null,
      "object_fit": null,
      "object_position": null,
      "order": null,
      "overflow": null,
      "overflow_x": null,
      "overflow_y": null,
      "padding": null,
      "right": null,
      "top": null,
      "visibility": null,
      "width": null
     }
    },
    "3c8f67bee8ae43aeb1aa36a80f700018": {
     "model_module": "@jupyter-widgets/base",
     "model_module_version": "1.2.0",
     "model_name": "LayoutModel",
     "state": {
      "_model_module": "@jupyter-widgets/base",
      "_model_module_version": "1.2.0",
      "_model_name": "LayoutModel",
      "_view_count": null,
      "_view_module": "@jupyter-widgets/base",
      "_view_module_version": "1.2.0",
      "_view_name": "LayoutView",
      "align_content": null,
      "align_items": null,
      "align_self": null,
      "border": null,
      "bottom": null,
      "display": null,
      "flex": null,
      "flex_flow": null,
      "grid_area": null,
      "grid_auto_columns": null,
      "grid_auto_flow": null,
      "grid_auto_rows": null,
      "grid_column": null,
      "grid_gap": null,
      "grid_row": null,
      "grid_template_areas": null,
      "grid_template_columns": null,
      "grid_template_rows": null,
      "height": null,
      "justify_content": null,
      "justify_items": null,
      "left": null,
      "margin": null,
      "max_height": null,
      "max_width": null,
      "min_height": null,
      "min_width": null,
      "object_fit": null,
      "object_position": null,
      "order": null,
      "overflow": null,
      "overflow_x": null,
      "overflow_y": null,
      "padding": null,
      "right": null,
      "top": null,
      "visibility": null,
      "width": null
     }
    },
    "3cb83880f8994c6a86c00d7c6c624a6a": {
     "model_module": "@jupyter-widgets/controls",
     "model_module_version": "1.5.0",
     "model_name": "DescriptionStyleModel",
     "state": {
      "_model_module": "@jupyter-widgets/controls",
      "_model_module_version": "1.5.0",
      "_model_name": "DescriptionStyleModel",
      "_view_count": null,
      "_view_module": "@jupyter-widgets/base",
      "_view_module_version": "1.2.0",
      "_view_name": "StyleView",
      "description_width": ""
     }
    },
    "3f385c0240a0453d97e5eecf2898503e": {
     "model_module": "@jupyter-widgets/controls",
     "model_module_version": "1.5.0",
     "model_name": "DescriptionStyleModel",
     "state": {
      "_model_module": "@jupyter-widgets/controls",
      "_model_module_version": "1.5.0",
      "_model_name": "DescriptionStyleModel",
      "_view_count": null,
      "_view_module": "@jupyter-widgets/base",
      "_view_module_version": "1.2.0",
      "_view_name": "StyleView",
      "description_width": ""
     }
    },
    "5051fcdc657843f79113432dfe500648": {
     "model_module": "@jupyter-widgets/controls",
     "model_module_version": "1.5.0",
     "model_name": "HBoxModel",
     "state": {
      "_dom_classes": [],
      "_model_module": "@jupyter-widgets/controls",
      "_model_module_version": "1.5.0",
      "_model_name": "HBoxModel",
      "_view_count": null,
      "_view_module": "@jupyter-widgets/controls",
      "_view_module_version": "1.5.0",
      "_view_name": "HBoxView",
      "box_style": "",
      "children": [
       "IPY_MODEL_08e4161daa87440aad514df9d2452d67",
       "IPY_MODEL_310fe1759a5a48229e0eb371d6887965",
       "IPY_MODEL_ad4866ca24a94271ab80a093d477d74c"
      ],
      "layout": "IPY_MODEL_1c397eb1846044c89999bee36372e61b"
     }
    },
    "7e5a6eefd4f54a1598cf6fcd7c321d0a": {
     "model_module": "@jupyter-widgets/controls",
     "model_module_version": "1.5.0",
     "model_name": "HTMLModel",
     "state": {
      "_dom_classes": [],
      "_model_module": "@jupyter-widgets/controls",
      "_model_module_version": "1.5.0",
      "_model_name": "HTMLModel",
      "_view_count": null,
      "_view_module": "@jupyter-widgets/controls",
      "_view_module_version": "1.5.0",
      "_view_name": "HTMLView",
      "description": "",
      "description_tooltip": null,
      "layout": "IPY_MODEL_1d47bd49e0f34add970de6cc7d2e215c",
      "placeholder": "​",
      "style": "IPY_MODEL_965c303470604ed1bac57678f8d12802",
      "value": "Downloading builder script: 100%"
     }
    },
    "8d05fc77b055462f86c5dad82b80b2a5": {
     "model_module": "@jupyter-widgets/controls",
     "model_module_version": "1.5.0",
     "model_name": "ProgressStyleModel",
     "state": {
      "_model_module": "@jupyter-widgets/controls",
      "_model_module_version": "1.5.0",
      "_model_name": "ProgressStyleModel",
      "_view_count": null,
      "_view_module": "@jupyter-widgets/base",
      "_view_module_version": "1.2.0",
      "_view_name": "StyleView",
      "bar_color": null,
      "description_width": ""
     }
    },
    "965c303470604ed1bac57678f8d12802": {
     "model_module": "@jupyter-widgets/controls",
     "model_module_version": "1.5.0",
     "model_name": "DescriptionStyleModel",
     "state": {
      "_model_module": "@jupyter-widgets/controls",
      "_model_module_version": "1.5.0",
      "_model_name": "DescriptionStyleModel",
      "_view_count": null,
      "_view_module": "@jupyter-widgets/base",
      "_view_module_version": "1.2.0",
      "_view_name": "StyleView",
      "description_width": ""
     }
    },
    "98ab681f466c4118816e09d04d530a5b": {
     "model_module": "@jupyter-widgets/controls",
     "model_module_version": "1.5.0",
     "model_name": "HBoxModel",
     "state": {
      "_dom_classes": [],
      "_model_module": "@jupyter-widgets/controls",
      "_model_module_version": "1.5.0",
      "_model_name": "HBoxModel",
      "_view_count": null,
      "_view_module": "@jupyter-widgets/controls",
      "_view_module_version": "1.5.0",
      "_view_name": "HBoxView",
      "box_style": "",
      "children": [
       "IPY_MODEL_7e5a6eefd4f54a1598cf6fcd7c321d0a",
       "IPY_MODEL_cca0affd9c2e4d1cb554579adb1c761f",
       "IPY_MODEL_f3cd385515684a3587722a58c59c43ed"
      ],
      "layout": "IPY_MODEL_f76f390b611448e080336dfe3ba083c8"
     }
    },
    "9a706e55f7ae4ae082cc6ddebf83c6d2": {
     "model_module": "@jupyter-widgets/controls",
     "model_module_version": "1.5.0",
     "model_name": "ProgressStyleModel",
     "state": {
      "_model_module": "@jupyter-widgets/controls",
      "_model_module_version": "1.5.0",
      "_model_name": "ProgressStyleModel",
      "_view_count": null,
      "_view_module": "@jupyter-widgets/base",
      "_view_module_version": "1.2.0",
      "_view_name": "StyleView",
      "bar_color": null,
      "description_width": ""
     }
    },
    "ac101e38ce954b0caef8fcd9d44d625d": {
     "model_module": "@jupyter-widgets/base",
     "model_module_version": "1.2.0",
     "model_name": "LayoutModel",
     "state": {
      "_model_module": "@jupyter-widgets/base",
      "_model_module_version": "1.2.0",
      "_model_name": "LayoutModel",
      "_view_count": null,
      "_view_module": "@jupyter-widgets/base",
      "_view_module_version": "1.2.0",
      "_view_name": "LayoutView",
      "align_content": null,
      "align_items": null,
      "align_self": null,
      "border": null,
      "bottom": null,
      "display": null,
      "flex": null,
      "flex_flow": null,
      "grid_area": null,
      "grid_auto_columns": null,
      "grid_auto_flow": null,
      "grid_auto_rows": null,
      "grid_column": null,
      "grid_gap": null,
      "grid_row": null,
      "grid_template_areas": null,
      "grid_template_columns": null,
      "grid_template_rows": null,
      "height": null,
      "justify_content": null,
      "justify_items": null,
      "left": null,
      "margin": null,
      "max_height": null,
      "max_width": null,
      "min_height": null,
      "min_width": null,
      "object_fit": null,
      "object_position": null,
      "order": null,
      "overflow": null,
      "overflow_x": null,
      "overflow_y": null,
      "padding": null,
      "right": null,
      "top": null,
      "visibility": null,
      "width": null
     }
    },
    "ad4866ca24a94271ab80a093d477d74c": {
     "model_module": "@jupyter-widgets/controls",
     "model_module_version": "1.5.0",
     "model_name": "HTMLModel",
     "state": {
      "_dom_classes": [],
      "_model_module": "@jupyter-widgets/controls",
      "_model_module_version": "1.5.0",
      "_model_name": "HTMLModel",
      "_view_count": null,
      "_view_module": "@jupyter-widgets/controls",
      "_view_module_version": "1.5.0",
      "_view_name": "HTMLView",
      "description": "",
      "description_tooltip": null,
      "layout": "IPY_MODEL_eede9ed968dc44ce8941ee6a9074b7db",
      "placeholder": "​",
      "style": "IPY_MODEL_d4e034781906493d90a44035ccf058e0",
      "value": " 6.77k/6.77k [00:00&lt;00:00, 548kB/s]"
     }
    },
    "cca0affd9c2e4d1cb554579adb1c761f": {
     "model_module": "@jupyter-widgets/controls",
     "model_module_version": "1.5.0",
     "model_name": "FloatProgressModel",
     "state": {
      "_dom_classes": [],
      "_model_module": "@jupyter-widgets/controls",
      "_model_module_version": "1.5.0",
      "_model_name": "FloatProgressModel",
      "_view_count": null,
      "_view_module": "@jupyter-widgets/controls",
      "_view_module_version": "1.5.0",
      "_view_name": "ProgressView",
      "bar_style": "success",
      "description": "",
      "description_tooltip": null,
      "layout": "IPY_MODEL_3c8f67bee8ae43aeb1aa36a80f700018",
      "max": 4203,
      "min": 0,
      "orientation": "horizontal",
      "style": "IPY_MODEL_8d05fc77b055462f86c5dad82b80b2a5",
      "value": 4203
     }
    },
    "d4e034781906493d90a44035ccf058e0": {
     "model_module": "@jupyter-widgets/controls",
     "model_module_version": "1.5.0",
     "model_name": "DescriptionStyleModel",
     "state": {
      "_model_module": "@jupyter-widgets/controls",
      "_model_module_version": "1.5.0",
      "_model_name": "DescriptionStyleModel",
      "_view_count": null,
      "_view_module": "@jupyter-widgets/base",
      "_view_module_version": "1.2.0",
      "_view_name": "StyleView",
      "description_width": ""
     }
    },
    "eede9ed968dc44ce8941ee6a9074b7db": {
     "model_module": "@jupyter-widgets/base",
     "model_module_version": "1.2.0",
     "model_name": "LayoutModel",
     "state": {
      "_model_module": "@jupyter-widgets/base",
      "_model_module_version": "1.2.0",
      "_model_name": "LayoutModel",
      "_view_count": null,
      "_view_module": "@jupyter-widgets/base",
      "_view_module_version": "1.2.0",
      "_view_name": "LayoutView",
      "align_content": null,
      "align_items": null,
      "align_self": null,
      "border": null,
      "bottom": null,
      "display": null,
      "flex": null,
      "flex_flow": null,
      "grid_area": null,
      "grid_auto_columns": null,
      "grid_auto_flow": null,
      "grid_auto_rows": null,
      "grid_column": null,
      "grid_gap": null,
      "grid_row": null,
      "grid_template_areas": null,
      "grid_template_columns": null,
      "grid_template_rows": null,
      "height": null,
      "justify_content": null,
      "justify_items": null,
      "left": null,
      "margin": null,
      "max_height": null,
      "max_width": null,
      "min_height": null,
      "min_width": null,
      "object_fit": null,
      "object_position": null,
      "order": null,
      "overflow": null,
      "overflow_x": null,
      "overflow_y": null,
      "padding": null,
      "right": null,
      "top": null,
      "visibility": null,
      "width": null
     }
    },
    "f3cd385515684a3587722a58c59c43ed": {
     "model_module": "@jupyter-widgets/controls",
     "model_module_version": "1.5.0",
     "model_name": "HTMLModel",
     "state": {
      "_dom_classes": [],
      "_model_module": "@jupyter-widgets/controls",
      "_model_module_version": "1.5.0",
      "_model_name": "HTMLModel",
      "_view_count": null,
      "_view_module": "@jupyter-widgets/controls",
      "_view_module_version": "1.5.0",
      "_view_name": "HTMLView",
      "description": "",
      "description_tooltip": null,
      "layout": "IPY_MODEL_ac101e38ce954b0caef8fcd9d44d625d",
      "placeholder": "​",
      "style": "IPY_MODEL_3cb83880f8994c6a86c00d7c6c624a6a",
      "value": " 4.20k/4.20k [00:00&lt;00:00, 352kB/s]"
     }
    },
    "f76f390b611448e080336dfe3ba083c8": {
     "model_module": "@jupyter-widgets/base",
     "model_module_version": "1.2.0",
     "model_name": "LayoutModel",
     "state": {
      "_model_module": "@jupyter-widgets/base",
      "_model_module_version": "1.2.0",
      "_model_name": "LayoutModel",
      "_view_count": null,
      "_view_module": "@jupyter-widgets/base",
      "_view_module_version": "1.2.0",
      "_view_name": "LayoutView",
      "align_content": null,
      "align_items": null,
      "align_self": null,
      "border": null,
      "bottom": null,
      "display": null,
      "flex": null,
      "flex_flow": null,
      "grid_area": null,
      "grid_auto_columns": null,
      "grid_auto_flow": null,
      "grid_auto_rows": null,
      "grid_column": null,
      "grid_gap": null,
      "grid_row": null,
      "grid_template_areas": null,
      "grid_template_columns": null,
      "grid_template_rows": null,
      "height": null,
      "justify_content": null,
      "justify_items": null,
      "left": null,
      "margin": null,
      "max_height": null,
      "max_width": null,
      "min_height": null,
      "min_width": null,
      "object_fit": null,
      "object_position": null,
      "order": null,
      "overflow": null,
      "overflow_x": null,
      "overflow_y": null,
      "padding": null,
      "right": null,
      "top": null,
      "visibility": null,
      "width": null
     }
    }
   }
  }
 },
 "nbformat": 4,
 "nbformat_minor": 1
}
